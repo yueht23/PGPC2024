{
 "cells": [
  {
   "cell_type": "markdown",
   "id": "1a64019f32cf3667",
   "metadata": {},
   "source": [
    "# Load Packages"
   ]
  },
  {
   "cell_type": "code",
   "execution_count": 1,
   "id": "afc54ba5",
   "metadata": {},
   "outputs": [
    {
     "name": "stdout",
     "output_type": "stream",
     "text": [
      "Collecting lightgbm\n",
      "  Downloading lightgbm-4.3.0-py3-none-win_amd64.whl (1.3 MB)\n",
      "Requirement already satisfied: numpy in c:\\users\\csia7\\anaconda3\\lib\\site-packages (from lightgbm) (1.24.4)\n",
      "Requirement already satisfied: scipy in c:\\users\\csia7\\anaconda3\\lib\\site-packages (from lightgbm) (1.6.2)\n",
      "Collecting numpy\n",
      "  Downloading numpy-1.22.4-cp38-cp38-win_amd64.whl (14.8 MB)\n",
      "Installing collected packages: numpy, lightgbm\n",
      "  Attempting uninstall: numpy\n",
      "    Found existing installation: numpy 1.24.4\n",
      "    Uninstalling numpy-1.24.4:\n",
      "      Successfully uninstalled numpy-1.24.4\n"
     ]
    },
    {
     "name": "stderr",
     "output_type": "stream",
     "text": [
      "ERROR: Could not install packages due to an OSError: [WinError 5] 액세스가 거부되었습니다: 'C:\\\\Users\\\\csia7\\\\anaconda3\\\\Lib\\\\site-packages\\\\~umpy\\\\.libs\\\\libopenblas64__v0.3.21-gcc_10_3_0.dll'\n",
      "Consider using the `--user` option or check the permissions.\n",
      "\n"
     ]
    }
   ],
   "source": [
    "#!pip install lightgbm"
   ]
  },
  {
   "cell_type": "code",
   "execution_count": 3,
   "id": "7e68baa5",
   "metadata": {},
   "outputs": [
    {
     "name": "stdout",
     "output_type": "stream",
     "text": [
      "Requirement already satisfied: xgboost in c:\\users\\csia7\\anaconda3\\lib\\site-packages (2.0.3)\n",
      "Requirement already satisfied: scipy in c:\\users\\csia7\\anaconda3\\lib\\site-packages (from xgboost) (1.6.2)\n",
      "Requirement already satisfied: numpy in c:\\users\\csia7\\anaconda3\\lib\\site-packages (from xgboost) (1.22.4)\n"
     ]
    }
   ],
   "source": [
    "#!pip install xgboost"
   ]
  },
  {
   "cell_type": "code",
   "execution_count": 7,
   "id": "78487d0c",
   "metadata": {},
   "outputs": [
    {
     "name": "stdout",
     "output_type": "stream",
     "text": [
      "Collecting import-ipynb\n",
      "  Downloading import_ipynb-0.1.4-py3-none-any.whl (4.1 kB)\n",
      "Requirement already satisfied: IPython in c:\\users\\csia7\\anaconda3\\lib\\site-packages (from import-ipynb) (7.22.0)\n",
      "Requirement already satisfied: nbformat in c:\\users\\csia7\\anaconda3\\lib\\site-packages (from import-ipynb) (5.1.3)\n",
      "Requirement already satisfied: pickleshare in c:\\users\\csia7\\anaconda3\\lib\\site-packages (from IPython->import-ipynb) (0.7.5)\n",
      "Requirement already satisfied: colorama in c:\\users\\csia7\\anaconda3\\lib\\site-packages (from IPython->import-ipynb) (0.4.4)\n",
      "Requirement already satisfied: pygments in c:\\users\\csia7\\anaconda3\\lib\\site-packages (from IPython->import-ipynb) (2.8.1)\n",
      "Requirement already satisfied: prompt-toolkit!=3.0.0,!=3.0.1,<3.1.0,>=2.0.0 in c:\\users\\csia7\\anaconda3\\lib\\site-packages (from IPython->import-ipynb) (3.0.17)\n",
      "Requirement already satisfied: backcall in c:\\users\\csia7\\anaconda3\\lib\\site-packages (from IPython->import-ipynb) (0.2.0)\n",
      "Requirement already satisfied: traitlets>=4.2 in c:\\users\\csia7\\anaconda3\\lib\\site-packages (from IPython->import-ipynb) (5.0.5)\n",
      "Requirement already satisfied: jedi>=0.16 in c:\\users\\csia7\\anaconda3\\lib\\site-packages (from IPython->import-ipynb) (0.17.2)\n",
      "Requirement already satisfied: decorator in c:\\users\\csia7\\anaconda3\\lib\\site-packages (from IPython->import-ipynb) (5.0.6)\n",
      "Requirement already satisfied: setuptools>=18.5 in c:\\users\\csia7\\anaconda3\\lib\\site-packages (from IPython->import-ipynb) (52.0.0.post20210125)\n",
      "Requirement already satisfied: parso<0.8.0,>=0.7.0 in c:\\users\\csia7\\anaconda3\\lib\\site-packages (from jedi>=0.16->IPython->import-ipynb) (0.7.0)\n",
      "Requirement already satisfied: wcwidth in c:\\users\\csia7\\anaconda3\\lib\\site-packages (from prompt-toolkit!=3.0.0,!=3.0.1,<3.1.0,>=2.0.0->IPython->import-ipynb) (0.2.5)\n",
      "Requirement already satisfied: ipython-genutils in c:\\users\\csia7\\anaconda3\\lib\\site-packages (from traitlets>=4.2->IPython->import-ipynb) (0.2.0)\n",
      "Requirement already satisfied: jupyter-core in c:\\users\\csia7\\anaconda3\\lib\\site-packages (from nbformat->import-ipynb) (4.7.1)\n",
      "Requirement already satisfied: jsonschema!=2.5.0,>=2.4 in c:\\users\\csia7\\anaconda3\\lib\\site-packages (from nbformat->import-ipynb) (3.2.0)\n",
      "Requirement already satisfied: pyrsistent>=0.14.0 in c:\\users\\csia7\\anaconda3\\lib\\site-packages (from jsonschema!=2.5.0,>=2.4->nbformat->import-ipynb) (0.17.3)\n",
      "Requirement already satisfied: attrs>=17.4.0 in c:\\users\\csia7\\anaconda3\\lib\\site-packages (from jsonschema!=2.5.0,>=2.4->nbformat->import-ipynb) (20.3.0)\n",
      "Requirement already satisfied: six>=1.11.0 in c:\\users\\csia7\\anaconda3\\lib\\site-packages (from jsonschema!=2.5.0,>=2.4->nbformat->import-ipynb) (1.15.0)\n",
      "Requirement already satisfied: pywin32>=1.0 in c:\\users\\csia7\\anaconda3\\lib\\site-packages (from jupyter-core->nbformat->import-ipynb) (227)\n",
      "Installing collected packages: import-ipynb\n",
      "Successfully installed import-ipynb-0.1.4\n"
     ]
    }
   ],
   "source": [
    "#!pip install import-ipynb"
   ]
  },
  {
   "cell_type": "code",
   "execution_count": 53,
   "id": "44ab88ea82f2bb1f",
   "metadata": {
    "ExecuteTime": {
     "end_time": "2024-02-11T20:48:04.659832Z",
     "start_time": "2024-02-11T20:48:04.507314400Z"
    }
   },
   "outputs": [],
   "source": [
    "import import_ipynb\n",
    "import csv\n",
    "import pandas as pd\n",
    "import numpy as np\n",
    "from sklearn.model_selection import KFold\n",
    "from sklearn.metrics import accuracy_score, mean_squared_error, explained_variance_score\n",
    "\n",
    "from srcs.utils import load_data, print_scores, get_scores, calculate_metrics\n",
    "import time\n",
    "import tracemalloc\n",
    "from tqdm import tqdm_notebook as tqdm\n",
    "import seaborn as sns\n",
    "import matplotlib.pyplot as plt\n",
    "\n",
    "# ignore warnings\n",
    "import warnings\n",
    "\n",
    "warnings.filterwarnings('ignore')"
   ]
  },
  {
   "cell_type": "markdown",
   "id": "7656a0a3d68edca6",
   "metadata": {},
   "source": [
    "# Load Data"
   ]
  },
  {
   "cell_type": "code",
   "execution_count": 54,
   "id": "53986523caad64ca",
   "metadata": {
    "ExecuteTime": {
     "end_time": "2024-02-11T20:48:04.850894100Z",
     "start_time": "2024-02-11T20:48:04.661831500Z"
    }
   },
   "outputs": [
    {
     "data": {
      "text/html": [
       "<div>\n",
       "<style scoped>\n",
       "    .dataframe tbody tr th:only-of-type {\n",
       "        vertical-align: middle;\n",
       "    }\n",
       "\n",
       "    .dataframe tbody tr th {\n",
       "        vertical-align: top;\n",
       "    }\n",
       "\n",
       "    .dataframe thead th {\n",
       "        text-align: right;\n",
       "    }\n",
       "</style>\n",
       "<table border=\"1\" class=\"dataframe\">\n",
       "  <thead>\n",
       "    <tr style=\"text-align: right;\">\n",
       "      <th></th>\n",
       "      <th>ClaimNb</th>\n",
       "      <th>Exposure</th>\n",
       "      <th>Area</th>\n",
       "      <th>VehPower</th>\n",
       "      <th>VehAge</th>\n",
       "      <th>DrivAge</th>\n",
       "      <th>BonusMalus</th>\n",
       "      <th>VehBrand</th>\n",
       "      <th>VehGas</th>\n",
       "      <th>Density</th>\n",
       "      <th>Region</th>\n",
       "      <th>ClaimAmount</th>\n",
       "    </tr>\n",
       "  </thead>\n",
       "  <tbody>\n",
       "    <tr>\n",
       "      <th>0</th>\n",
       "      <td>0.0</td>\n",
       "      <td>0.43</td>\n",
       "      <td>D</td>\n",
       "      <td>7.0</td>\n",
       "      <td>18.0</td>\n",
       "      <td>36.0</td>\n",
       "      <td>95.0</td>\n",
       "      <td>B1</td>\n",
       "      <td>Regular</td>\n",
       "      <td>1054.0</td>\n",
       "      <td>R24</td>\n",
       "      <td>0.0</td>\n",
       "    </tr>\n",
       "    <tr>\n",
       "      <th>1</th>\n",
       "      <td>0.0</td>\n",
       "      <td>0.10</td>\n",
       "      <td>D</td>\n",
       "      <td>7.0</td>\n",
       "      <td>17.0</td>\n",
       "      <td>80.0</td>\n",
       "      <td>95.0</td>\n",
       "      <td>B2</td>\n",
       "      <td>Regular</td>\n",
       "      <td>598.0</td>\n",
       "      <td>R25</td>\n",
       "      <td>0.0</td>\n",
       "    </tr>\n",
       "    <tr>\n",
       "      <th>2</th>\n",
       "      <td>0.0</td>\n",
       "      <td>0.33</td>\n",
       "      <td>E</td>\n",
       "      <td>7.0</td>\n",
       "      <td>3.0</td>\n",
       "      <td>36.0</td>\n",
       "      <td>76.0</td>\n",
       "      <td>B6</td>\n",
       "      <td>Regular</td>\n",
       "      <td>4172.0</td>\n",
       "      <td>R82</td>\n",
       "      <td>0.0</td>\n",
       "    </tr>\n",
       "    <tr>\n",
       "      <th>3</th>\n",
       "      <td>0.0</td>\n",
       "      <td>0.56</td>\n",
       "      <td>A</td>\n",
       "      <td>5.0</td>\n",
       "      <td>4.0</td>\n",
       "      <td>73.0</td>\n",
       "      <td>52.0</td>\n",
       "      <td>B13</td>\n",
       "      <td>Diesel</td>\n",
       "      <td>15.0</td>\n",
       "      <td>R24</td>\n",
       "      <td>0.0</td>\n",
       "    </tr>\n",
       "    <tr>\n",
       "      <th>4</th>\n",
       "      <td>0.0</td>\n",
       "      <td>0.27</td>\n",
       "      <td>E</td>\n",
       "      <td>8.0</td>\n",
       "      <td>0.0</td>\n",
       "      <td>37.0</td>\n",
       "      <td>50.0</td>\n",
       "      <td>B11</td>\n",
       "      <td>Diesel</td>\n",
       "      <td>3021.0</td>\n",
       "      <td>R53</td>\n",
       "      <td>0.0</td>\n",
       "    </tr>\n",
       "    <tr>\n",
       "      <th>...</th>\n",
       "      <td>...</td>\n",
       "      <td>...</td>\n",
       "      <td>...</td>\n",
       "      <td>...</td>\n",
       "      <td>...</td>\n",
       "      <td>...</td>\n",
       "      <td>...</td>\n",
       "      <td>...</td>\n",
       "      <td>...</td>\n",
       "      <td>...</td>\n",
       "      <td>...</td>\n",
       "      <td>...</td>\n",
       "    </tr>\n",
       "    <tr>\n",
       "      <th>678008</th>\n",
       "      <td>0.0</td>\n",
       "      <td>0.35</td>\n",
       "      <td>D</td>\n",
       "      <td>10.0</td>\n",
       "      <td>6.0</td>\n",
       "      <td>57.0</td>\n",
       "      <td>85.0</td>\n",
       "      <td>B12</td>\n",
       "      <td>Diesel</td>\n",
       "      <td>879.0</td>\n",
       "      <td>R82</td>\n",
       "      <td>0.0</td>\n",
       "    </tr>\n",
       "    <tr>\n",
       "      <th>678009</th>\n",
       "      <td>0.0</td>\n",
       "      <td>0.87</td>\n",
       "      <td>D</td>\n",
       "      <td>10.0</td>\n",
       "      <td>10.0</td>\n",
       "      <td>46.0</td>\n",
       "      <td>56.0</td>\n",
       "      <td>B5</td>\n",
       "      <td>Diesel</td>\n",
       "      <td>1609.0</td>\n",
       "      <td>R11</td>\n",
       "      <td>0.0</td>\n",
       "    </tr>\n",
       "    <tr>\n",
       "      <th>678010</th>\n",
       "      <td>0.0</td>\n",
       "      <td>1.00</td>\n",
       "      <td>E</td>\n",
       "      <td>8.0</td>\n",
       "      <td>8.0</td>\n",
       "      <td>35.0</td>\n",
       "      <td>50.0</td>\n",
       "      <td>B5</td>\n",
       "      <td>Regular</td>\n",
       "      <td>3744.0</td>\n",
       "      <td>R93</td>\n",
       "      <td>0.0</td>\n",
       "    </tr>\n",
       "    <tr>\n",
       "      <th>678011</th>\n",
       "      <td>0.0</td>\n",
       "      <td>0.50</td>\n",
       "      <td>E</td>\n",
       "      <td>11.0</td>\n",
       "      <td>1.0</td>\n",
       "      <td>32.0</td>\n",
       "      <td>54.0</td>\n",
       "      <td>B12</td>\n",
       "      <td>Regular</td>\n",
       "      <td>6485.0</td>\n",
       "      <td>R11</td>\n",
       "      <td>0.0</td>\n",
       "    </tr>\n",
       "    <tr>\n",
       "      <th>678012</th>\n",
       "      <td>0.0</td>\n",
       "      <td>0.41</td>\n",
       "      <td>C</td>\n",
       "      <td>5.0</td>\n",
       "      <td>2.0</td>\n",
       "      <td>56.0</td>\n",
       "      <td>50.0</td>\n",
       "      <td>B1</td>\n",
       "      <td>Regular</td>\n",
       "      <td>182.0</td>\n",
       "      <td>R82</td>\n",
       "      <td>0.0</td>\n",
       "    </tr>\n",
       "  </tbody>\n",
       "</table>\n",
       "<p>678013 rows × 12 columns</p>\n",
       "</div>"
      ],
      "text/plain": [
       "        ClaimNb  Exposure Area  VehPower  VehAge  DrivAge  BonusMalus  \\\n",
       "0           0.0      0.43    D       7.0    18.0     36.0        95.0   \n",
       "1           0.0      0.10    D       7.0    17.0     80.0        95.0   \n",
       "2           0.0      0.33    E       7.0     3.0     36.0        76.0   \n",
       "3           0.0      0.56    A       5.0     4.0     73.0        52.0   \n",
       "4           0.0      0.27    E       8.0     0.0     37.0        50.0   \n",
       "...         ...       ...  ...       ...     ...      ...         ...   \n",
       "678008      0.0      0.35    D      10.0     6.0     57.0        85.0   \n",
       "678009      0.0      0.87    D      10.0    10.0     46.0        56.0   \n",
       "678010      0.0      1.00    E       8.0     8.0     35.0        50.0   \n",
       "678011      0.0      0.50    E      11.0     1.0     32.0        54.0   \n",
       "678012      0.0      0.41    C       5.0     2.0     56.0        50.0   \n",
       "\n",
       "       VehBrand   VehGas  Density Region  ClaimAmount  \n",
       "0            B1  Regular   1054.0    R24          0.0  \n",
       "1            B2  Regular    598.0    R25          0.0  \n",
       "2            B6  Regular   4172.0    R82          0.0  \n",
       "3           B13   Diesel     15.0    R24          0.0  \n",
       "4           B11   Diesel   3021.0    R53          0.0  \n",
       "...         ...      ...      ...    ...          ...  \n",
       "678008      B12   Diesel    879.0    R82          0.0  \n",
       "678009       B5   Diesel   1609.0    R11          0.0  \n",
       "678010       B5  Regular   3744.0    R93          0.0  \n",
       "678011      B12  Regular   6485.0    R11          0.0  \n",
       "678012       B1  Regular    182.0    R82          0.0  \n",
       "\n",
       "[678013 rows x 12 columns]"
      ]
     },
     "execution_count": 54,
     "metadata": {},
     "output_type": "execute_result"
    }
   ],
   "source": [
    "df = load_data()\n",
    "# shuffle the data\n",
    "df = df.sample(frac=1, random_state=42).reset_index(drop=True)\n",
    "df"
   ]
  },
  {
   "cell_type": "markdown",
   "id": "9dabeb9c06109ea7",
   "metadata": {},
   "source": [
    "# Feature Engineering"
   ]
  },
  {
   "cell_type": "code",
   "execution_count": 55,
   "id": "395abea844462cbd",
   "metadata": {
    "ExecuteTime": {
     "end_time": "2024-02-11T20:48:05.166526Z",
     "start_time": "2024-02-11T20:48:04.853894700Z"
    }
   },
   "outputs": [],
   "source": [
    "# your feature engineering and data preprocessing here\n",
    "# e.g.\n",
    "\n",
    "# drop Area AS it can be inferred from Region\n",
    "# drop ClaimAmount as we can not use it to predict the number of claims\n",
    "df.drop(columns=[\"Area\", \"ClaimAmount\"], inplace=True)\n",
    "\n",
    "# drop as kaggler's notebook\n",
    "df[\"ClaimNb\"] = df[\"ClaimNb\"].clip(upper=4)\n",
    "df[\"Exposure\"] = df[\"Exposure\"].clip(upper=1)\n",
    "\n",
    "df[\"VehAge\"] = df[\"VehAge\"].clip(upper=np.percentile(df[\"VehAge\"], 97.5))\n",
    "df[\"DrivAge\"] = df[\"DrivAge\"].clip(upper=np.percentile(df[\"DrivAge\"], 97.5))\n",
    "\n",
    "df = pd.get_dummies(df, columns=[\"VehBrand\", \"VehPower\", \"VehGas\", \"Region\"], drop_first=True)\n",
    "\n",
    "df[\"Density\"] = np.log(df[\"Density\"])\n",
    "df[\"VehAge2\"] = df[\"VehAge\"] ** 2\n",
    "df[\"DrivAge2\"] = df[\"DrivAge\"] ** 2\n",
    "\n",
    "df[\"VehAge3\"] = df[\"VehAge\"] ** 3\n",
    "df[\"DrivAge3\"] = df[\"DrivAge\"] ** 3\n",
    "\n",
    "df[\"VehAge4\"] = df[\"VehAge\"] ** 4\n",
    "df[\"DrivAge4\"] = df[\"DrivAge\"] ** 4\n",
    "\n",
    "df[\"VehAge5\"] = df[\"VehAge\"] ** 5\n",
    "df[\"DrivAge5\"] = df[\"DrivAge\"] ** 5\n",
    "\n",
    "df[\"VehAge6\"] = df[\"VehAge\"] ** 6\n",
    "df[\"DrivAge6\"] = df[\"DrivAge\"] ** 6\n"
   ]
  },
  {
   "cell_type": "code",
   "execution_count": 56,
   "id": "986cbfb4d6b68744",
   "metadata": {
    "ExecuteTime": {
     "end_time": "2024-02-11T20:48:05.292546100Z",
     "start_time": "2024-02-11T20:48:05.170526100Z"
    }
   },
   "outputs": [],
   "source": [
    "# do not change the fellowing code\n",
    "X = df.drop(columns=['ClaimNb'])\n",
    "y = df['ClaimNb']\n",
    "\n",
    "# data integrity check\n",
    "# make sure we do not drop some rows\n",
    "assert X.shape[0] == load_data().shape[0]\n",
    "# assert ClaimAmount is not in X, as ClaimAmount can not be used to predict the number of claims\n",
    "assert \"ClaimAmount\" not in X.columns\n",
    "# assert Frequency is not in X, as Frequency can not be used to predict the number of claims\n",
    "assert \"Frequency\" not in X.columns"
   ]
  },
  {
   "cell_type": "code",
   "execution_count": 57,
   "id": "ab76c7dd",
   "metadata": {},
   "outputs": [
    {
     "data": {
      "text/html": [
       "<div>\n",
       "<style scoped>\n",
       "    .dataframe tbody tr th:only-of-type {\n",
       "        vertical-align: middle;\n",
       "    }\n",
       "\n",
       "    .dataframe tbody tr th {\n",
       "        vertical-align: top;\n",
       "    }\n",
       "\n",
       "    .dataframe thead th {\n",
       "        text-align: right;\n",
       "    }\n",
       "</style>\n",
       "<table border=\"1\" class=\"dataframe\">\n",
       "  <thead>\n",
       "    <tr style=\"text-align: right;\">\n",
       "      <th></th>\n",
       "      <th>Exposure</th>\n",
       "      <th>VehAge</th>\n",
       "      <th>DrivAge</th>\n",
       "      <th>BonusMalus</th>\n",
       "      <th>Density</th>\n",
       "      <th>VehAge2</th>\n",
       "      <th>DrivAge2</th>\n",
       "      <th>VehAge3</th>\n",
       "      <th>DrivAge3</th>\n",
       "      <th>VehAge4</th>\n",
       "      <th>DrivAge4</th>\n",
       "      <th>VehAge5</th>\n",
       "      <th>DrivAge5</th>\n",
       "      <th>VehAge6</th>\n",
       "      <th>DrivAge6</th>\n",
       "    </tr>\n",
       "  </thead>\n",
       "  <tbody>\n",
       "    <tr>\n",
       "      <th>count</th>\n",
       "      <td>678013.000000</td>\n",
       "      <td>678013.000000</td>\n",
       "      <td>678013.000000</td>\n",
       "      <td>678013.000000</td>\n",
       "      <td>678013.000000</td>\n",
       "      <td>678013.000000</td>\n",
       "      <td>678013.000000</td>\n",
       "      <td>678013.000000</td>\n",
       "      <td>678013.000000</td>\n",
       "      <td>678013.000000</td>\n",
       "      <td>6.780130e+05</td>\n",
       "      <td>6.780130e+05</td>\n",
       "      <td>6.780130e+05</td>\n",
       "      <td>6.780130e+05</td>\n",
       "      <td>6.780130e+05</td>\n",
       "    </tr>\n",
       "    <tr>\n",
       "      <th>mean</th>\n",
       "      <td>0.528545</td>\n",
       "      <td>6.958887</td>\n",
       "      <td>45.392259</td>\n",
       "      <td>59.761502</td>\n",
       "      <td>5.981771</td>\n",
       "      <td>77.142822</td>\n",
       "      <td>2252.981126</td>\n",
       "      <td>1011.868354</td>\n",
       "      <td>120657.674219</td>\n",
       "      <td>14556.993662</td>\n",
       "      <td>6.879790e+06</td>\n",
       "      <td>2.223877e+05</td>\n",
       "      <td>4.127064e+08</td>\n",
       "      <td>3.546090e+06</td>\n",
       "      <td>2.578820e+10</td>\n",
       "    </tr>\n",
       "    <tr>\n",
       "      <th>std</th>\n",
       "      <td>0.364081</td>\n",
       "      <td>5.358801</td>\n",
       "      <td>13.875309</td>\n",
       "      <td>15.636658</td>\n",
       "      <td>1.870453</td>\n",
       "      <td>92.768483</td>\n",
       "      <td>1343.081631</td>\n",
       "      <td>1588.148793</td>\n",
       "      <td>105971.437836</td>\n",
       "      <td>27813.533210</td>\n",
       "      <td>7.938920e+06</td>\n",
       "      <td>4.970196e+05</td>\n",
       "      <td>5.866942e+08</td>\n",
       "      <td>9.015606e+06</td>\n",
       "      <td>4.327870e+10</td>\n",
       "    </tr>\n",
       "    <tr>\n",
       "      <th>min</th>\n",
       "      <td>0.002732</td>\n",
       "      <td>0.000000</td>\n",
       "      <td>18.000000</td>\n",
       "      <td>50.000000</td>\n",
       "      <td>0.000000</td>\n",
       "      <td>0.000000</td>\n",
       "      <td>324.000000</td>\n",
       "      <td>0.000000</td>\n",
       "      <td>5832.000000</td>\n",
       "      <td>0.000000</td>\n",
       "      <td>1.049760e+05</td>\n",
       "      <td>0.000000e+00</td>\n",
       "      <td>1.889568e+06</td>\n",
       "      <td>0.000000e+00</td>\n",
       "      <td>3.401222e+07</td>\n",
       "    </tr>\n",
       "    <tr>\n",
       "      <th>25%</th>\n",
       "      <td>0.180000</td>\n",
       "      <td>2.000000</td>\n",
       "      <td>34.000000</td>\n",
       "      <td>50.000000</td>\n",
       "      <td>4.521789</td>\n",
       "      <td>4.000000</td>\n",
       "      <td>1156.000000</td>\n",
       "      <td>8.000000</td>\n",
       "      <td>39304.000000</td>\n",
       "      <td>16.000000</td>\n",
       "      <td>1.336336e+06</td>\n",
       "      <td>3.200000e+01</td>\n",
       "      <td>4.543542e+07</td>\n",
       "      <td>6.400000e+01</td>\n",
       "      <td>1.544804e+09</td>\n",
       "    </tr>\n",
       "    <tr>\n",
       "      <th>50%</th>\n",
       "      <td>0.490000</td>\n",
       "      <td>6.000000</td>\n",
       "      <td>44.000000</td>\n",
       "      <td>50.000000</td>\n",
       "      <td>5.973810</td>\n",
       "      <td>36.000000</td>\n",
       "      <td>1936.000000</td>\n",
       "      <td>216.000000</td>\n",
       "      <td>85184.000000</td>\n",
       "      <td>1296.000000</td>\n",
       "      <td>3.748096e+06</td>\n",
       "      <td>7.776000e+03</td>\n",
       "      <td>1.649162e+08</td>\n",
       "      <td>4.665600e+04</td>\n",
       "      <td>7.256314e+09</td>\n",
       "    </tr>\n",
       "    <tr>\n",
       "      <th>75%</th>\n",
       "      <td>0.990000</td>\n",
       "      <td>11.000000</td>\n",
       "      <td>55.000000</td>\n",
       "      <td>64.000000</td>\n",
       "      <td>7.413367</td>\n",
       "      <td>121.000000</td>\n",
       "      <td>3025.000000</td>\n",
       "      <td>1331.000000</td>\n",
       "      <td>166375.000000</td>\n",
       "      <td>14641.000000</td>\n",
       "      <td>9.150625e+06</td>\n",
       "      <td>1.610510e+05</td>\n",
       "      <td>5.032844e+08</td>\n",
       "      <td>1.771561e+06</td>\n",
       "      <td>2.768064e+10</td>\n",
       "    </tr>\n",
       "    <tr>\n",
       "      <th>max</th>\n",
       "      <td>1.000000</td>\n",
       "      <td>19.000000</td>\n",
       "      <td>76.000000</td>\n",
       "      <td>230.000000</td>\n",
       "      <td>10.203592</td>\n",
       "      <td>361.000000</td>\n",
       "      <td>5776.000000</td>\n",
       "      <td>6859.000000</td>\n",
       "      <td>438976.000000</td>\n",
       "      <td>130321.000000</td>\n",
       "      <td>3.336218e+07</td>\n",
       "      <td>2.476099e+06</td>\n",
       "      <td>2.535525e+09</td>\n",
       "      <td>4.704588e+07</td>\n",
       "      <td>1.926999e+11</td>\n",
       "    </tr>\n",
       "  </tbody>\n",
       "</table>\n",
       "</div>"
      ],
      "text/plain": [
       "            Exposure         VehAge        DrivAge     BonusMalus  \\\n",
       "count  678013.000000  678013.000000  678013.000000  678013.000000   \n",
       "mean        0.528545       6.958887      45.392259      59.761502   \n",
       "std         0.364081       5.358801      13.875309      15.636658   \n",
       "min         0.002732       0.000000      18.000000      50.000000   \n",
       "25%         0.180000       2.000000      34.000000      50.000000   \n",
       "50%         0.490000       6.000000      44.000000      50.000000   \n",
       "75%         0.990000      11.000000      55.000000      64.000000   \n",
       "max         1.000000      19.000000      76.000000     230.000000   \n",
       "\n",
       "             Density        VehAge2       DrivAge2        VehAge3  \\\n",
       "count  678013.000000  678013.000000  678013.000000  678013.000000   \n",
       "mean        5.981771      77.142822    2252.981126    1011.868354   \n",
       "std         1.870453      92.768483    1343.081631    1588.148793   \n",
       "min         0.000000       0.000000     324.000000       0.000000   \n",
       "25%         4.521789       4.000000    1156.000000       8.000000   \n",
       "50%         5.973810      36.000000    1936.000000     216.000000   \n",
       "75%         7.413367     121.000000    3025.000000    1331.000000   \n",
       "max        10.203592     361.000000    5776.000000    6859.000000   \n",
       "\n",
       "            DrivAge3        VehAge4      DrivAge4       VehAge5      DrivAge5  \\\n",
       "count  678013.000000  678013.000000  6.780130e+05  6.780130e+05  6.780130e+05   \n",
       "mean   120657.674219   14556.993662  6.879790e+06  2.223877e+05  4.127064e+08   \n",
       "std    105971.437836   27813.533210  7.938920e+06  4.970196e+05  5.866942e+08   \n",
       "min      5832.000000       0.000000  1.049760e+05  0.000000e+00  1.889568e+06   \n",
       "25%     39304.000000      16.000000  1.336336e+06  3.200000e+01  4.543542e+07   \n",
       "50%     85184.000000    1296.000000  3.748096e+06  7.776000e+03  1.649162e+08   \n",
       "75%    166375.000000   14641.000000  9.150625e+06  1.610510e+05  5.032844e+08   \n",
       "max    438976.000000  130321.000000  3.336218e+07  2.476099e+06  2.535525e+09   \n",
       "\n",
       "            VehAge6      DrivAge6  \n",
       "count  6.780130e+05  6.780130e+05  \n",
       "mean   3.546090e+06  2.578820e+10  \n",
       "std    9.015606e+06  4.327870e+10  \n",
       "min    0.000000e+00  3.401222e+07  \n",
       "25%    6.400000e+01  1.544804e+09  \n",
       "50%    4.665600e+04  7.256314e+09  \n",
       "75%    1.771561e+06  2.768064e+10  \n",
       "max    4.704588e+07  1.926999e+11  "
      ]
     },
     "execution_count": 57,
     "metadata": {},
     "output_type": "execute_result"
    }
   ],
   "source": [
    "X.describe()"
   ]
  },
  {
   "cell_type": "code",
   "execution_count": 58,
   "id": "3ce1c3b7",
   "metadata": {},
   "outputs": [
    {
     "data": {
      "text/plain": [
       "count    678013.000000\n",
       "mean          0.053179\n",
       "std           0.237954\n",
       "min           0.000000\n",
       "25%           0.000000\n",
       "50%           0.000000\n",
       "75%           0.000000\n",
       "max           4.000000\n",
       "Name: ClaimNb, dtype: float64"
      ]
     },
     "execution_count": 58,
     "metadata": {},
     "output_type": "execute_result"
    }
   ],
   "source": [
    "y.describe()"
   ]
  },
  {
   "cell_type": "markdown",
   "id": "70305ec6a3cfdbfb",
   "metadata": {},
   "source": [
    "# Model Evaluation\n"
   ]
  },
  {
   "cell_type": "code",
   "execution_count": 59,
   "id": "d96512dd20d57b95",
   "metadata": {
    "ExecuteTime": {
     "end_time": "2024-02-11T20:48:05.308240400Z",
     "start_time": "2024-02-11T20:48:05.292546100Z"
    }
   },
   "outputs": [],
   "source": [
    "# use to store the scores of each model\n",
    "results = []"
   ]
  },
  {
   "cell_type": "markdown",
   "id": "b9969da89c404643",
   "metadata": {},
   "source": [
    "## Naive Poisson Regression"
   ]
  },
  {
   "cell_type": "code",
   "execution_count": 60,
   "id": "381f75bd79d4ee32",
   "metadata": {
    "ExecuteTime": {
     "end_time": "2024-02-11T20:48:08.334474700Z",
     "start_time": "2024-02-11T20:48:05.311240600Z"
    }
   },
   "outputs": [
    {
     "data": {
      "application/vnd.jupyter.widget-view+json": {
       "model_id": "2c8df4e1c01f4beb8c4a9a149eec1dd3",
       "version_major": 2,
       "version_minor": 0
      },
      "text/plain": [
       "0it [00:00, ?it/s]"
      ]
     },
     "metadata": {},
     "output_type": "display_data"
    },
    {
     "name": "stdout",
     "output_type": "stream",
     "text": [
      "model: Naive Poisson Regression\n",
      "train_MAE:0.0568;(std:0.0002)\n",
      "test_MAE:0.0568;(std:0.0007)\n",
      "train_Max_Error:3.9354;(std:0.0002)\n",
      "test_Max_Error:3.7354;(std:0.4002)\n",
      "train_Mean_Poisson_Deviance:0.3226;(std:0.0006)\n",
      "test_Mean_Poisson_Deviance:0.3226;(std:0.0022)\n",
      "train_explained_variance:0.0000;(std:0.0000)\n",
      "test_explained_variance:0.0000;(std:0.0000)\n",
      "train_time:7.4494;(std:0.1048)\n",
      "test_time:6.7138;(std:0.2428)\n",
      "train_memory:698627164.8000;(std:963.4501)\n",
      "test_memory:698624161.2000;(std:595.2473)\n"
     ]
    }
   ],
   "source": [
    "scores = get_scores(model_name=\"Naive Poisson Regression\")\n",
    "\"\"\"\n",
    "Please specify the model here\n",
    "\"\"\"\n",
    "from sklearn.linear_model import PoissonRegressor\n",
    "\n",
    "naive_poisson = PoissonRegressor()\n",
    "\n",
    "kf5 = KFold(n_splits=5, shuffle=True, random_state=42)\n",
    "for train_index, test_index in tqdm(kf5.split(X)):\n",
    "    X_train, X_test = X.iloc[train_index], X.iloc[test_index]\n",
    "    y_train, y_test = y.iloc[train_index], y.iloc[test_index]\n",
    "\n",
    "    \"\"\"Train the model\"\"\"\n",
    "    tracemalloc.start()\n",
    "    start = time.time()\n",
    "\n",
    "    # enter your model training here\n",
    "    model = naive_poisson.fit(X_train, y_train, sample_weight=X_train[\"Exposure\"])\n",
    "\n",
    "    end = time.time()\n",
    "    _, peak = tracemalloc.get_traced_memory()\n",
    "    tracemalloc.stop()\n",
    "    scores[\"train_time\"].append(end - start)\n",
    "    scores[\"train_memory\"].append(peak)\n",
    "\n",
    "    \"\"\"Test the model\"\"\"\n",
    "    start = time.time()\n",
    "    tracemalloc.start()\n",
    "\n",
    "    # enter your model testing here\n",
    "    y_pred_train = model.predict(X_train)\n",
    "    y_pred_test = model.predict(X_test)\n",
    "\n",
    "    end = time.time()\n",
    "    _, peak = tracemalloc.get_traced_memory()\n",
    "    tracemalloc.stop()\n",
    "    scores[\"test_time\"].append(end - start)\n",
    "    scores[\"test_memory\"].append(peak)\n",
    "\n",
    "    \"\"\"Calculate the Metrics\"\"\"\n",
    "    scores = calculate_metrics(scores, y_train, y_pred_train, y_test, y_pred_test)\n",
    "results.append(scores)\n",
    "print_scores(scores)"
   ]
  },
  {
   "cell_type": "markdown",
   "id": "6c32dd4e0a6c0597",
   "metadata": {},
   "source": [
    "## XGBoost Poisson Regression"
   ]
  },
  {
   "cell_type": "code",
   "execution_count": 12,
   "id": "b64f88613d8389f2",
   "metadata": {
    "ExecuteTime": {
     "end_time": "2024-02-11T20:49:30.752443900Z",
     "start_time": "2024-02-11T20:48:08.388971200Z"
    }
   },
   "outputs": [
    {
     "data": {
      "application/vnd.jupyter.widget-view+json": {
       "model_id": "4dd30cbde0ef4d2bbe0d3e3191f69280",
       "version_major": 2,
       "version_minor": 0
      },
      "text/plain": [
       "0it [00:00, ?it/s]"
      ]
     },
     "metadata": {},
     "output_type": "display_data"
    },
    {
     "name": "stdout",
     "output_type": "stream",
     "text": [
      "model: XGBoost Poisson Regression\n",
      "train_MAE:0.0530;(std:0.0002)\n",
      "test_MAE:0.0542;(std:0.0006)\n",
      "train_Max_Error:3.9836;(std:0.0018)\n",
      "test_Max_Error:3.7777;(std:0.3965)\n",
      "train_Mean_Poisson_Deviance:0.2799;(std:0.0005)\n",
      "test_Mean_Poisson_Deviance:0.2900;(std:0.0017)\n",
      "train_explained_variance:0.0644;(std:0.0009)\n",
      "test_explained_variance:0.0422;(std:0.0023)\n",
      "train_time:2.9619;(std:0.1523)\n",
      "test_time:0.4014;(std:0.0130)\n",
      "train_memory:256051890.8000;(std:19756.4907)\n",
      "test_memory:253858701.4000;(std:13729.0889)\n"
     ]
    }
   ],
   "source": [
    "scores = get_scores(model_name=\"XGBoost Poisson Regression\")\n",
    "\"\"\"\n",
    "Please specify the model here\n",
    "\"\"\"\n",
    "from xgboost import XGBRegressor\n",
    "\n",
    "xgboost_poisson_model = XGBRegressor(objective=\"count:poisson\")\n",
    "\n",
    "kf5 = KFold(n_splits=5, shuffle=True, random_state=42)\n",
    "for train_index, test_index in tqdm(kf5.split(X)):\n",
    "    X_train, X_test = X.iloc[train_index], X.iloc[test_index]\n",
    "    y_train, y_test = y.iloc[train_index], y.iloc[test_index]\n",
    "\n",
    "    \"\"\"Train the model\"\"\"\n",
    "    tracemalloc.start()\n",
    "    start = time.time()\n",
    "\n",
    "    # enter your model training here\n",
    "    model = xgboost_poisson_model.fit(X_train, y_train, sample_weight=X_train[\"Exposure\"])\n",
    "\n",
    "    end = time.time()\n",
    "    _, peak = tracemalloc.get_traced_memory()\n",
    "    tracemalloc.stop()\n",
    "    scores[\"train_time\"].append(end - start)\n",
    "    scores[\"train_memory\"].append(peak)\n",
    "\n",
    "    \"\"\"Test the model\"\"\"\n",
    "    start = time.time()\n",
    "    tracemalloc.start()\n",
    "\n",
    "    # enter your model testing here\n",
    "    y_pred_train = model.predict(X_train)\n",
    "    y_pred_test = model.predict(X_test)\n",
    "\n",
    "    end = time.time()\n",
    "    _, peak = tracemalloc.get_traced_memory()\n",
    "    tracemalloc.stop()\n",
    "    scores[\"test_time\"].append(end - start)\n",
    "    scores[\"test_memory\"].append(peak)\n",
    "\n",
    "    \"\"\"Calculate the Metrics\"\"\"\n",
    "    scores = calculate_metrics(scores, y_train, y_pred_train, y_test, y_pred_test)\n",
    "\n",
    "results.append(scores)\n",
    "print_scores(scores)"
   ]
  },
  {
   "cell_type": "markdown",
   "id": "fffa4640867d41ed",
   "metadata": {},
   "source": [
    "## LightGBM Poisson Regression"
   ]
  },
  {
   "cell_type": "code",
   "execution_count": 13,
   "id": "bf7813e51b560f61",
   "metadata": {
    "ExecuteTime": {
     "end_time": "2024-02-11T20:49:57.154312600Z",
     "start_time": "2024-02-11T20:49:30.753437300Z"
    }
   },
   "outputs": [
    {
     "data": {
      "application/vnd.jupyter.widget-view+json": {
       "model_id": "9353d7858c6f4cf58c7a809f89d3abdb",
       "version_major": 2,
       "version_minor": 0
      },
      "text/plain": [
       "0it [00:00, ?it/s]"
      ]
     },
     "metadata": {},
     "output_type": "display_data"
    },
    {
     "name": "stdout",
     "output_type": "stream",
     "text": [
      "[LightGBM] [Info] Auto-choosing row-wise multi-threading, the overhead of testing was 0.005152 seconds.\n",
      "You can set `force_row_wise=true` to remove the overhead.\n",
      "And if memory is not enough, you can set `force_col_wise=true`.\n",
      "[LightGBM] [Info] Total Bins 1016\n",
      "[LightGBM] [Info] Number of data points in the train set: 542410, number of used features: 58\n",
      "[LightGBM] [Info] Start training from score -2.742141\n",
      "[LightGBM] [Info] Auto-choosing row-wise multi-threading, the overhead of testing was 0.006020 seconds.\n",
      "You can set `force_row_wise=true` to remove the overhead.\n",
      "And if memory is not enough, you can set `force_col_wise=true`.\n",
      "[LightGBM] [Info] Total Bins 1014\n",
      "[LightGBM] [Info] Number of data points in the train set: 542410, number of used features: 58\n",
      "[LightGBM] [Info] Start training from score -2.738841\n",
      "[LightGBM] [Info] Auto-choosing row-wise multi-threading, the overhead of testing was 0.005295 seconds.\n",
      "You can set `force_row_wise=true` to remove the overhead.\n",
      "And if memory is not enough, you can set `force_col_wise=true`.\n",
      "[LightGBM] [Info] Total Bins 1018\n",
      "[LightGBM] [Info] Number of data points in the train set: 542410, number of used features: 58\n",
      "[LightGBM] [Info] Start training from score -2.739094\n",
      "[LightGBM] [Info] Auto-choosing row-wise multi-threading, the overhead of testing was 0.006659 seconds.\n",
      "You can set `force_row_wise=true` to remove the overhead.\n",
      "And if memory is not enough, you can set `force_col_wise=true`.\n",
      "[LightGBM] [Info] Total Bins 1014\n",
      "[LightGBM] [Info] Number of data points in the train set: 542411, number of used features: 58\n",
      "[LightGBM] [Info] Start training from score -2.733778\n",
      "[LightGBM] [Info] Auto-choosing row-wise multi-threading, the overhead of testing was 0.006576 seconds.\n",
      "You can set `force_row_wise=true` to remove the overhead.\n",
      "And if memory is not enough, you can set `force_col_wise=true`.\n",
      "[LightGBM] [Info] Total Bins 1014\n",
      "[LightGBM] [Info] Number of data points in the train set: 542411, number of used features: 58\n",
      "[LightGBM] [Info] Start training from score -2.743045\n",
      "model: LightGBM Poisson Regression\n",
      "train_MAE:0.0539;(std:0.0002)\n",
      "test_MAE:0.0543;(std:0.0007)\n",
      "train_Max_Error:3.9812;(std:0.0033)\n",
      "test_Max_Error:3.7744;(std:0.3959)\n",
      "train_Mean_Poisson_Deviance:0.2884;(std:0.0005)\n",
      "test_Mean_Poisson_Deviance:0.2917;(std:0.0020)\n",
      "train_explained_variance:0.0477;(std:0.0007)\n",
      "test_explained_variance:0.0408;(std:0.0022)\n",
      "train_time:1.5297;(std:0.0967)\n",
      "test_time:0.9086;(std:0.0508)\n",
      "train_memory:503378160.4000;(std:16837.4033)\n",
      "test_memory:507704179.6000;(std:689.0485)\n"
     ]
    }
   ],
   "source": [
    "scores = get_scores(model_name=\"LightGBM Poisson Regression\")\n",
    "\"\"\"\n",
    "Please specify the model here\n",
    "\"\"\"\n",
    "from lightgbm import LGBMRegressor\n",
    "\n",
    "lightgbm_poisson_model = LGBMRegressor(objective=\"poisson\")\n",
    "\n",
    "kf5 = KFold(n_splits=5, shuffle=True, random_state=42)\n",
    "\n",
    "for train_index, test_index in tqdm(kf5.split(X)):\n",
    "    X_train, X_test = X.iloc[train_index], X.iloc[test_index]\n",
    "    y_train, y_test = y.iloc[train_index], y.iloc[test_index]\n",
    "\n",
    "    \"\"\"Train the model\"\"\"\n",
    "    tracemalloc.start()\n",
    "    start = time.time()\n",
    "\n",
    "    # enter your model training here\n",
    "    model = lightgbm_poisson_model.fit(X_train, y_train, sample_weight=X_train[\"Exposure\"])\n",
    "\n",
    "    end = time.time()\n",
    "    _, peak = tracemalloc.get_traced_memory()\n",
    "    tracemalloc.stop()\n",
    "    scores[\"train_time\"].append(end - start)\n",
    "    scores[\"train_memory\"].append(peak)\n",
    "\n",
    "    \"\"\"Test the model\"\"\"\n",
    "    start = time.time()\n",
    "    tracemalloc.start()\n",
    "\n",
    "    # enter your model testing here\n",
    "    y_pred_train = model.predict(X_train)\n",
    "    y_pred_test = model.predict(X_test)\n",
    "\n",
    "    end = time.time()\n",
    "    _, peak = tracemalloc.get_traced_memory()\n",
    "    tracemalloc.stop()\n",
    "    scores[\"test_time\"].append(end - start)\n",
    "    scores[\"test_memory\"].append(peak)\n",
    "\n",
    "    \"\"\"Calculate the Metrics\"\"\"\n",
    "    scores = calculate_metrics(scores, y_train, y_pred_train, y_test, y_pred_test)\n",
    "\n",
    "results.append(scores)\n",
    "print_scores(scores)"
   ]
  },
  {
   "cell_type": "markdown",
   "id": "45287c84c181113",
   "metadata": {},
   "source": [
    "## CatBoost Poisson Regression -- too slow if you want to run it, please delete the comment"
   ]
  },
  {
   "cell_type": "code",
   "execution_count": 11,
   "id": "c4bc454f182cc6e",
   "metadata": {
    "ExecuteTime": {
     "end_time": "2024-02-11T20:49:57.175957200Z",
     "start_time": "2024-02-11T20:49:57.153311600Z"
    }
   },
   "outputs": [],
   "source": [
    "# scores = get_scores(model_name=\"CatBoost Poisson Regression\")\n",
    "# \"\"\"\n",
    "# Please specify the model here\n",
    "# \"\"\"\n",
    "# from catboost import CatBoostRegressor\n",
    "# \n",
    "# catboost_poisson_model = CatBoostRegressor(loss_function=\"Poisson\", verbose=False)\n",
    "# \n",
    "# kf5 = KFold(n_splits=5, shuffle=True, random_state=42)\n",
    "# \n",
    "# for train_index, test_index in tqdm(kf5.split(X)):\n",
    "#     X_train, X_test = X.iloc[train_index], X.iloc[test_index]\n",
    "#     y_train, y_test = y.iloc[train_index], y.iloc[test_index]\n",
    "# \n",
    "#     \"\"\"Train the model\"\"\"\n",
    "#     tracemalloc.start()\n",
    "#     start = time.time()\n",
    "# \n",
    "#     # enter your model training here\n",
    "#     model = catboost_poisson_model.fit(X_train, y_train, sample_weight=X_train[\"Exposure\"])\n",
    "# \n",
    "#     end = time.time()\n",
    "#     _, peak = tracemalloc.get_traced_memory()\n",
    "#     tracemalloc.stop()\n",
    "#     scores[\"train_time\"].append(end - start)\n",
    "#     scores[\"train_memory\"].append(peak)\n",
    "# \n",
    "#     \"\"\"Test the model\"\"\"\n",
    "#     start = time.time()\n",
    "#     tracemalloc.start()\n",
    "# \n",
    "#     # enter your model testing here\n",
    "#     y_pred_train = model.predict(X_train)\n",
    "#     y_pred_test = model.predict(X_test)\n",
    "# \n",
    "#     end = time.time()\n",
    "#     _, peak = tracemalloc.get_traced_memory()\n",
    "#     tracemalloc.stop()\n",
    "#     scores[\"test_time\"].append(end - start)\n",
    "#     scores[\"test_memory\"].append(peak)\n",
    "# \n",
    "#     \"\"\"Calculate the Metrics\"\"\"\n",
    "#     scores = calculate_metrics(scores, y_train, y_pred_train, y_test, y_pred_test)\n",
    "# \n",
    "# results.append(scores)\n",
    "# print_scores(scores)"
   ]
  },
  {
   "cell_type": "markdown",
   "id": "4da5c8e6392fce11",
   "metadata": {},
   "source": [
    "## Naive Poisson + LDS"
   ]
  },
  {
   "cell_type": "code",
   "execution_count": 62,
   "id": "243c5fed8991388a",
   "metadata": {
    "ExecuteTime": {
     "end_time": "2024-02-11T20:49:57.176960100Z",
     "start_time": "2024-02-11T20:49:57.163371400Z"
    }
   },
   "outputs": [
    {
     "data": {
      "application/vnd.jupyter.widget-view+json": {
       "model_id": "e8a4fb7553e440fdb96f5043750a2e0b",
       "version_major": 2,
       "version_minor": 0
      },
      "text/plain": [
       "0it [00:00, ?it/s]"
      ]
     },
     "metadata": {},
     "output_type": "display_data"
    },
    {
     "name": "stdout",
     "output_type": "stream",
     "text": [
      "model: Naive Poisson Regression\n",
      "train_MAE:0.0000;(std:0.0000)\n",
      "test_MAE:0.0000;(std:0.0000)\n",
      "train_Max_Error:0.0025;(std:0.0000)\n",
      "test_Max_Error:0.0020;(std:0.0009)\n",
      "train_Mean_Poisson_Deviance:0.0000;(std:0.0000)\n",
      "test_Mean_Poisson_Deviance:0.0000;(std:0.0000)\n",
      "train_explained_variance:-0.0000;(std:0.0000)\n",
      "test_explained_variance:-0.0000;(std:0.0000)\n",
      "train_time:7.5920;(std:0.0956)\n",
      "test_time:6.9482;(std:0.1060)\n",
      "train_memory:698627317.4000;(std:927.2475)\n",
      "test_memory:698624334.0000;(std:490.3158)\n"
     ]
    }
   ],
   "source": [
    "from collections import Counter\n",
    "from scipy.ndimage import convolve1d\n",
    "from scipy.ndimage import gaussian_filter1d\n",
    "from utils import get_lds_kernel_window\n",
    "from loss import weighted_mse_loss\n",
    "\n",
    "# preds, labels: [Ns,], \"Ns\" is the number of total samples\n",
    "preds = X\n",
    "labels = y\n",
    "\n",
    "def get_bin_idx(label):\n",
    "    return int(label)\n",
    "\n",
    "# assign each label to its corresponding bin (start from 0)\n",
    "# with your defined get_bin_idx(), return bin_index_per_label: [Ns,] \n",
    "bin_index_per_label = [get_bin_idx(label) for label in labels]\n",
    "\n",
    "# calculate empirical (original) label distribution: [Nb,]\n",
    "# \"Nb\" is the number of bins\n",
    "Nb = max(bin_index_per_label) + 1\n",
    "num_samples_of_bins = dict(Counter(bin_index_per_label))\n",
    "emp_label_dist = [num_samples_of_bins.get(i, 0) for i in range(Nb)]\n",
    "\n",
    "# lds_kernel_window: [ks,], here for example, we use gaussian, ks=5, sigma=2\n",
    "lds_kernel_window = get_lds_kernel_window(kernel='gaussian', ks=5, sigma=2)\n",
    "# calculate effective label distribution: [Nb,]\n",
    "eff_label_dist = convolve1d(np.array(emp_label_dist), weights=lds_kernel_window, mode='constant')\n",
    "\n",
    "# Use re-weighting based on effective label distribution, sample-wise weights: [Ns,]\n",
    "eff_num_per_label = [eff_label_dist[bin_idx] for bin_idx in bin_index_per_label]\n",
    "weights = [np.float32(1 / x) for x in eff_num_per_label]\n",
    "y = y * weights\n",
    "\n",
    "#loss = weighted_mse_loss(preds, labels, weights=weights)\n",
    "\n",
    "scores = get_scores(model_name=\"Naive Poisson Regression\")\n",
    "\"\"\"\n",
    "Please specify the model here\n",
    "\"\"\"\n",
    "from sklearn.linear_model import PoissonRegressor\n",
    "\n",
    "naive_poisson = PoissonRegressor()\n",
    "\n",
    "kf5 = KFold(n_splits=5, shuffle=True, random_state=42)\n",
    "for train_index, test_index in tqdm(kf5.split(X)):\n",
    "    X_train, X_test = X.iloc[train_index], X.iloc[test_index]\n",
    "    y_train, y_test = y.iloc[train_index], y.iloc[test_index]\n",
    "    #weights_train, weights_test = weights.iloc[train_index], weights.iloc[test_index]\n",
    "\n",
    "    \"\"\"Train the model\"\"\"\n",
    "    tracemalloc.start()\n",
    "    start = time.time()\n",
    "\n",
    "    # enter your model training here\n",
    "    model = naive_poisson.fit(X_train, y_train, sample_weight=X_train[\"Exposure\"])\n",
    "\n",
    "    end = time.time()\n",
    "    _, peak = tracemalloc.get_traced_memory()\n",
    "    tracemalloc.stop()\n",
    "    scores[\"train_time\"].append(end - start)\n",
    "    scores[\"train_memory\"].append(peak)\n",
    "\n",
    "    \"\"\"Test the model\"\"\"\n",
    "    start = time.time()\n",
    "    tracemalloc.start()\n",
    "\n",
    "    # enter your model testing here\n",
    "    y_pred_train = model.predict(X_train)\n",
    "    y_pred_test = model.predict(X_test)\n",
    "\n",
    "    end = time.time()\n",
    "    _, peak = tracemalloc.get_traced_memory()\n",
    "    tracemalloc.stop()\n",
    "    scores[\"test_time\"].append(end - start)\n",
    "    scores[\"test_memory\"].append(peak)\n",
    "\n",
    "    \"\"\"Calculate the Metrics\"\"\"\n",
    "    scores = calculate_metrics(scores, y_train, y_pred_train, y_test, y_pred_test)\n",
    "results.append(scores)\n",
    "print_scores(scores)"
   ]
  },
  {
   "cell_type": "markdown",
   "id": "502bf47cacf5f47",
   "metadata": {},
   "source": [
    "# Summary"
   ]
  },
  {
   "cell_type": "code",
   "execution_count": 64,
   "id": "b5f92a8b00a8fc79",
   "metadata": {
    "ExecuteTime": {
     "end_time": "2024-02-11T20:49:57.225957500Z",
     "start_time": "2024-02-11T20:49:57.178960200Z"
    }
   },
   "outputs": [
    {
     "data": {
      "text/html": [
       "<div>\n",
       "<style scoped>\n",
       "    .dataframe tbody tr th:only-of-type {\n",
       "        vertical-align: middle;\n",
       "    }\n",
       "\n",
       "    .dataframe tbody tr th {\n",
       "        vertical-align: top;\n",
       "    }\n",
       "\n",
       "    .dataframe thead th {\n",
       "        text-align: right;\n",
       "    }\n",
       "</style>\n",
       "<table border=\"1\" class=\"dataframe\">\n",
       "  <thead>\n",
       "    <tr style=\"text-align: right;\">\n",
       "      <th></th>\n",
       "      <th>train_MAE</th>\n",
       "      <th>test_MAE</th>\n",
       "      <th>train_Max_Error</th>\n",
       "      <th>test_Max_Error</th>\n",
       "      <th>train_Mean_Poisson_Deviance</th>\n",
       "      <th>test_Mean_Poisson_Deviance</th>\n",
       "      <th>train_explained_variance</th>\n",
       "      <th>test_explained_variance</th>\n",
       "      <th>train_time</th>\n",
       "      <th>test_time</th>\n",
       "      <th>train_memory</th>\n",
       "      <th>test_memory</th>\n",
       "    </tr>\n",
       "    <tr>\n",
       "      <th>model</th>\n",
       "      <th></th>\n",
       "      <th></th>\n",
       "      <th></th>\n",
       "      <th></th>\n",
       "      <th></th>\n",
       "      <th></th>\n",
       "      <th></th>\n",
       "      <th></th>\n",
       "      <th></th>\n",
       "      <th></th>\n",
       "      <th></th>\n",
       "      <th></th>\n",
       "    </tr>\n",
       "  </thead>\n",
       "  <tbody>\n",
       "    <tr>\n",
       "      <th>Naive Poisson Regression</th>\n",
       "      <td>0.028376</td>\n",
       "      <td>0.028377</td>\n",
       "      <td>1.968926</td>\n",
       "      <td>1.86869</td>\n",
       "      <td>0.161287</td>\n",
       "      <td>0.161289</td>\n",
       "      <td>-4.440892e-17</td>\n",
       "      <td>-9.992007e-17</td>\n",
       "      <td>7.520688</td>\n",
       "      <td>6.830996</td>\n",
       "      <td>698627241.1</td>\n",
       "      <td>698624247.6</td>\n",
       "    </tr>\n",
       "  </tbody>\n",
       "</table>\n",
       "</div>"
      ],
      "text/plain": [
       "                          train_MAE  test_MAE  train_Max_Error  \\\n",
       "model                                                            \n",
       "Naive Poisson Regression   0.028376  0.028377         1.968926   \n",
       "\n",
       "                          test_Max_Error  train_Mean_Poisson_Deviance  \\\n",
       "model                                                                   \n",
       "Naive Poisson Regression         1.86869                     0.161287   \n",
       "\n",
       "                          test_Mean_Poisson_Deviance  \\\n",
       "model                                                  \n",
       "Naive Poisson Regression                    0.161289   \n",
       "\n",
       "                          train_explained_variance  test_explained_variance  \\\n",
       "model                                                                         \n",
       "Naive Poisson Regression             -4.440892e-17            -9.992007e-17   \n",
       "\n",
       "                          train_time  test_time  train_memory  test_memory  \n",
       "model                                                                       \n",
       "Naive Poisson Regression    7.520688   6.830996   698627241.1  698624247.6  "
      ]
     },
     "execution_count": 64,
     "metadata": {},
     "output_type": "execute_result"
    }
   ],
   "source": [
    "df_results = pd.DataFrame()\n",
    "for result in results:\n",
    "    df_results = pd.concat([df_results, pd.DataFrame(result)])\n",
    "\n",
    "df_results.groupby(\"model\").mean().sort_values(by=\"test_MAE\")"
   ]
  },
  {
   "cell_type": "code",
   "execution_count": 65,
   "id": "8c57acde57a8e470",
   "metadata": {
    "ExecuteTime": {
     "end_time": "2024-02-11T20:49:59.907569900Z",
     "start_time": "2024-02-11T20:49:57.210978300Z"
    }
   },
   "outputs": [
    {
     "data": {
      "image/png": "[encoded data removed]",
      "text/plain": [
       "<Figure size 1440x144 with 1 Axes>"
      ]
     },
     "metadata": {
      "needs_background": "light"
     },
     "output_type": "display_data"
    },
    {
     "data": {
      "image/png": "[encoded data removed]",
      "text/plain": [
       "<Figure size 1440x144 with 1 Axes>"
      ]
     },
     "metadata": {
      "needs_background": "light"
     },
     "output_type": "display_data"
    },
    {
     "data": {
      "image/png": "[encoded data removed]",
      "text/plain": [
       "<Figure size 1440x144 with 1 Axes>"
      ]
     },
     "metadata": {
      "needs_background": "light"
     },
     "output_type": "display_data"
    },
    {
     "data": {
      "image/png": "[encoded data removed]",
      "text/plain": [
       "<Figure size 1440x144 with 1 Axes>"
      ]
     },
     "metadata": {
      "needs_background": "light"
     },
     "output_type": "display_data"
    },
    {
     "data": {
      "image/png": "[encoded data removed]",
      "text/plain": [
       "<Figure size 1440x144 with 1 Axes>"
      ]
     },
     "metadata": {
      "needs_background": "light"
     },
     "output_type": "display_data"
    },
    {
     "data": {
      "image/png": "[encoded data removed]",
      "text/plain": [
       "<Figure size 1440x144 with 1 Axes>"
      ]
     },
     "metadata": {
      "needs_background": "light"
     },
     "output_type": "display_data"
    },
    {
     "data": {
      "image/png": "[encoded data removed]",
      "text/plain": [
       "<Figure size 1440x144 with 1 Axes>"
      ]
     },
     "metadata": {
      "needs_background": "light"
     },
     "output_type": "display_data"
    },
    {
     "data": {
      "image/png": "[encoded data removed]",
      "text/plain": [
       "<Figure size 1440x144 with 1 Axes>"
      ]
     },
     "metadata": {
      "needs_background": "light"
     },
     "output_type": "display_data"
    },
    {
     "data": {
      "image/png": "[encoded data removed]",
      "text/plain": [
       "<Figure size 1440x144 with 1 Axes>"
      ]
     },
     "metadata": {
      "needs_background": "light"
     },
     "output_type": "display_data"
    },
    {
     "data": {
      "image/png": "[encoded data removed]",
      "text/plain": [
       "<Figure size 1440x144 with 1 Axes>"
      ]
     },
     "metadata": {
      "needs_background": "light"
     },
     "output_type": "display_data"
    },
    {
     "data": {
      "image/png": "[encoded data removed]",
      "text/plain": [
       "<Figure size 1440x144 with 1 Axes>"
      ]
     },
     "metadata": {
      "needs_background": "light"
     },
     "output_type": "display_data"
    },
    {
     "data": {
      "image/png": "[encoded data removed]",
      "text/plain": [
       "<Figure size 1440x144 with 1 Axes>"
      ]
     },
     "metadata": {
      "needs_background": "light"
     },
     "output_type": "display_data"
    }
   ],
   "source": [
    "for metric in results[0].keys():\n",
    "    if metric != \"model\":\n",
    "        plt.figure(figsize=(20, len(results)))\n",
    "        sns.boxplot(data=df_results, y=\"model\", x=metric)\n",
    "        plt.xticks(rotation=45)\n",
    "        plt.show()"
   ]
  },
  {
   "cell_type": "code",
   "execution_count": null,
   "id": "fb32b4b4",
   "metadata": {},
   "outputs": [],
   "source": []
  }
 ],
 "metadata": {
  "kernelspec": {
   "display_name": "Python 3",
   "language": "python",
   "name": "python3"
  },
  "language_info": {
   "codemirror_mode": {
    "name": "ipython",
    "version": 3
   },
   "file_extension": ".py",
   "mimetype": "text/x-python",
   "name": "python",
   "nbconvert_exporter": "python",
   "pygments_lexer": "ipython3",
   "version": "3.8.8"
  }
 },
 "nbformat": 4,
 "nbformat_minor": 5
}
