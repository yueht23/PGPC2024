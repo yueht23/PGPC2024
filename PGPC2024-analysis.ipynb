{
 "cells": [
  {
   "cell_type": "code",
   "execution_count": 1,
   "id": "initial_id",
   "metadata": {
    "collapsed": true,
    "ExecuteTime": {
     "end_time": "2024-01-29T17:33:38.153732700Z",
     "start_time": "2024-01-29T17:33:35.348844700Z"
    }
   },
   "outputs": [],
   "source": [
    "# ignore warnings\n",
    "import warnings\n",
    "\n",
    "warnings.filterwarnings(\"ignore\")\n",
    "\n",
    "from functools import partial\n",
    "\n",
    "import matplotlib.pyplot as plt\n",
    "import numpy as np\n",
    "import pandas as pd\n",
    "from sklearn.datasets import fetch_openml"
   ]
  },
  {
   "cell_type": "markdown",
   "source": [
    "# Load data"
   ],
   "metadata": {
    "collapsed": false
   },
   "id": "db9cb874598a881f"
  },
  {
   "cell_type": "code",
   "outputs": [
    {
     "data": {
      "text/plain": "         ClaimNb  Exposure Area  VehPower  VehAge  DrivAge  BonusMalus  \\\nIDpol                                                                    \n1              1   0.10000    D         5       0       55          50   \n3              1   0.77000    D         5       0       55          50   \n5              1   0.75000    B         6       2       52          50   \n10             1   0.09000    B         7       0       46          50   \n11             1   0.84000    B         7       0       46          50   \n...          ...       ...  ...       ...     ...      ...         ...   \n6114326        0   0.00274    E         4       0       54          50   \n6114327        0   0.00274    E         4       0       41          95   \n6114328        0   0.00274    D         6       2       45          50   \n6114329        0   0.00274    B         4       0       60          50   \n6114330        0   0.00274    B         7       6       29          54   \n\n        VehBrand   VehGas  Density Region  ClaimAmount  \nIDpol                                                   \n1            B12  Regular     1217    R82          0.0  \n3            B12  Regular     1217    R82          0.0  \n5            B12   Diesel       54    R22          0.0  \n10           B12   Diesel       76    R72          0.0  \n11           B12   Diesel       76    R72          0.0  \n...          ...      ...      ...    ...          ...  \n6114326      B12  Regular     3317    R93          0.0  \n6114327      B12  Regular     9850    R11          0.0  \n6114328      B12   Diesel     1323    R82          0.0  \n6114329      B12  Regular       95    R26          0.0  \n6114330      B12   Diesel       65    R72          0.0  \n\n[678013 rows x 12 columns]",
      "text/html": "<div>\n<style scoped>\n    .dataframe tbody tr th:only-of-type {\n        vertical-align: middle;\n    }\n\n    .dataframe tbody tr th {\n        vertical-align: top;\n    }\n\n    .dataframe thead th {\n        text-align: right;\n    }\n</style>\n<table border=\"1\" class=\"dataframe\">\n  <thead>\n    <tr style=\"text-align: right;\">\n      <th></th>\n      <th>ClaimNb</th>\n      <th>Exposure</th>\n      <th>Area</th>\n      <th>VehPower</th>\n      <th>VehAge</th>\n      <th>DrivAge</th>\n      <th>BonusMalus</th>\n      <th>VehBrand</th>\n      <th>VehGas</th>\n      <th>Density</th>\n      <th>Region</th>\n      <th>ClaimAmount</th>\n    </tr>\n    <tr>\n      <th>IDpol</th>\n      <th></th>\n      <th></th>\n      <th></th>\n      <th></th>\n      <th></th>\n      <th></th>\n      <th></th>\n      <th></th>\n      <th></th>\n      <th></th>\n      <th></th>\n      <th></th>\n    </tr>\n  </thead>\n  <tbody>\n    <tr>\n      <th>1</th>\n      <td>1</td>\n      <td>0.10000</td>\n      <td>D</td>\n      <td>5</td>\n      <td>0</td>\n      <td>55</td>\n      <td>50</td>\n      <td>B12</td>\n      <td>Regular</td>\n      <td>1217</td>\n      <td>R82</td>\n      <td>0.0</td>\n    </tr>\n    <tr>\n      <th>3</th>\n      <td>1</td>\n      <td>0.77000</td>\n      <td>D</td>\n      <td>5</td>\n      <td>0</td>\n      <td>55</td>\n      <td>50</td>\n      <td>B12</td>\n      <td>Regular</td>\n      <td>1217</td>\n      <td>R82</td>\n      <td>0.0</td>\n    </tr>\n    <tr>\n      <th>5</th>\n      <td>1</td>\n      <td>0.75000</td>\n      <td>B</td>\n      <td>6</td>\n      <td>2</td>\n      <td>52</td>\n      <td>50</td>\n      <td>B12</td>\n      <td>Diesel</td>\n      <td>54</td>\n      <td>R22</td>\n      <td>0.0</td>\n    </tr>\n    <tr>\n      <th>10</th>\n      <td>1</td>\n      <td>0.09000</td>\n      <td>B</td>\n      <td>7</td>\n      <td>0</td>\n      <td>46</td>\n      <td>50</td>\n      <td>B12</td>\n      <td>Diesel</td>\n      <td>76</td>\n      <td>R72</td>\n      <td>0.0</td>\n    </tr>\n    <tr>\n      <th>11</th>\n      <td>1</td>\n      <td>0.84000</td>\n      <td>B</td>\n      <td>7</td>\n      <td>0</td>\n      <td>46</td>\n      <td>50</td>\n      <td>B12</td>\n      <td>Diesel</td>\n      <td>76</td>\n      <td>R72</td>\n      <td>0.0</td>\n    </tr>\n    <tr>\n      <th>...</th>\n      <td>...</td>\n      <td>...</td>\n      <td>...</td>\n      <td>...</td>\n      <td>...</td>\n      <td>...</td>\n      <td>...</td>\n      <td>...</td>\n      <td>...</td>\n      <td>...</td>\n      <td>...</td>\n      <td>...</td>\n    </tr>\n    <tr>\n      <th>6114326</th>\n      <td>0</td>\n      <td>0.00274</td>\n      <td>E</td>\n      <td>4</td>\n      <td>0</td>\n      <td>54</td>\n      <td>50</td>\n      <td>B12</td>\n      <td>Regular</td>\n      <td>3317</td>\n      <td>R93</td>\n      <td>0.0</td>\n    </tr>\n    <tr>\n      <th>6114327</th>\n      <td>0</td>\n      <td>0.00274</td>\n      <td>E</td>\n      <td>4</td>\n      <td>0</td>\n      <td>41</td>\n      <td>95</td>\n      <td>B12</td>\n      <td>Regular</td>\n      <td>9850</td>\n      <td>R11</td>\n      <td>0.0</td>\n    </tr>\n    <tr>\n      <th>6114328</th>\n      <td>0</td>\n      <td>0.00274</td>\n      <td>D</td>\n      <td>6</td>\n      <td>2</td>\n      <td>45</td>\n      <td>50</td>\n      <td>B12</td>\n      <td>Diesel</td>\n      <td>1323</td>\n      <td>R82</td>\n      <td>0.0</td>\n    </tr>\n    <tr>\n      <th>6114329</th>\n      <td>0</td>\n      <td>0.00274</td>\n      <td>B</td>\n      <td>4</td>\n      <td>0</td>\n      <td>60</td>\n      <td>50</td>\n      <td>B12</td>\n      <td>Regular</td>\n      <td>95</td>\n      <td>R26</td>\n      <td>0.0</td>\n    </tr>\n    <tr>\n      <th>6114330</th>\n      <td>0</td>\n      <td>0.00274</td>\n      <td>B</td>\n      <td>7</td>\n      <td>6</td>\n      <td>29</td>\n      <td>54</td>\n      <td>B12</td>\n      <td>Diesel</td>\n      <td>65</td>\n      <td>R72</td>\n      <td>0.0</td>\n    </tr>\n  </tbody>\n</table>\n<p>678013 rows × 12 columns</p>\n</div>"
     },
     "execution_count": 2,
     "metadata": {},
     "output_type": "execute_result"
    }
   ],
   "source": [
    "def load_mtpl2(n_samples=None):\n",
    "    \"\"\"Fetch the French Motor Third-Party Liability Claims dataset.\n",
    "\n",
    "    Parameters\n",
    "    ----------\n",
    "    n_samples: int, default=None\n",
    "      number of samples to select (for faster run time). Full dataset has\n",
    "      678013 samples.\n",
    "    \"\"\"\n",
    "    # freMTPL2freq dataset from https://www.openml.org/d/41214\n",
    "    df_freq = fetch_openml(data_id=41214, as_frame=True).data\n",
    "    df_freq[\"IDpol\"] = df_freq[\"IDpol\"].astype(int)\n",
    "    df_freq.set_index(\"IDpol\", inplace=True)\n",
    "\n",
    "    # freMTPL2sev dataset from https://www.openml.org/d/41215\n",
    "    df_sev = fetch_openml(data_id=41215, as_frame=True).data\n",
    "\n",
    "    # sum ClaimAmount over identical IDs\n",
    "    df_sev = df_sev.groupby(\"IDpol\").sum()\n",
    "\n",
    "    df = df_freq.join(df_sev, how=\"left\")\n",
    "    df[\"ClaimAmount\"].fillna(0, inplace=True)\n",
    "\n",
    "    # unquote string fields\n",
    "    for column_name in df.columns[df.dtypes.values == object]:\n",
    "        df[column_name] = df[column_name].str.strip(\"'\")\n",
    "    return df.iloc[:n_samples]\n",
    "\n",
    "\n",
    "try:\n",
    "    # load data from local pickle\n",
    "    df = pd.read_pickle(\"mtpl2.pkl\")\n",
    "except FileNotFoundError:\n",
    "    # or download from openml\n",
    "    df = load_mtpl2()\n",
    "    df.to_pickle(\"mtpl2.pkl\")\n",
    "df"
   ],
   "metadata": {
    "collapsed": false,
    "ExecuteTime": {
     "end_time": "2024-01-29T17:33:38.278826900Z",
     "start_time": "2024-01-29T17:33:38.155696400Z"
    }
   },
   "id": "42ab6ee8d8afc48a",
   "execution_count": 2
  },
  {
   "cell_type": "markdown",
   "source": [
    "Feature names\n",
    "- IDpol: policy number (unique identifier); \n",
    "- ClaimNb: number of claims on the given policy; \n",
    "- Exposure: total exposure in yearly units;\n",
    "- Area: area code (categorical, ordinal);\n",
    "- VehPower: power of the car (categorical, ordinal)\n",
    "- VehAge: age of the car in years; \n",
    "- DrivAge: age of the (most common) driver in years\n",
    "- BonusMalus: bonus-malus level between 50 and 230 (with reference level 100); \n",
    "- VehBrand: car brand (categorical, nominal); \n",
    "- VehGas: diesel or regular fuel car (binary); \n",
    "- Density: density of inhabitants per km2 in the city of the living place of the driver; \n",
    "- Region: regions in France (prior to 2016)\n",
    "- ClaimAmount: total claim amount."
   ],
   "metadata": {
    "collapsed": false
   },
   "id": "3aa68c30fa8fd1a0"
  },
  {
   "cell_type": "code",
   "outputs": [
    {
     "name": "stdout",
     "output_type": "stream",
     "text": [
      "<class 'pandas.core.frame.DataFrame'>\n",
      "Index: 678013 entries, 1 to 6114330\n",
      "Data columns (total 12 columns):\n",
      " #   Column       Non-Null Count   Dtype   \n",
      "---  ------       --------------   -----   \n",
      " 0   ClaimNb      678013 non-null  int64   \n",
      " 1   Exposure     678013 non-null  float64 \n",
      " 2   Area         678013 non-null  category\n",
      " 3   VehPower     678013 non-null  int64   \n",
      " 4   VehAge       678013 non-null  int64   \n",
      " 5   DrivAge      678013 non-null  int64   \n",
      " 6   BonusMalus   678013 non-null  int64   \n",
      " 7   VehBrand     678013 non-null  category\n",
      " 8   VehGas       678013 non-null  object  \n",
      " 9   Density      678013 non-null  int64   \n",
      " 10  Region       678013 non-null  category\n",
      " 11  ClaimAmount  678013 non-null  float64 \n",
      "dtypes: category(3), float64(2), int64(6), object(1)\n",
      "memory usage: 53.7+ MB\n"
     ]
    }
   ],
   "source": [
    "df.info()"
   ],
   "metadata": {
    "collapsed": false,
    "ExecuteTime": {
     "end_time": "2024-01-29T17:33:38.442343800Z",
     "start_time": "2024-01-29T17:33:38.278826900Z"
    }
   },
   "id": "32963b31c46e549d",
   "execution_count": 3
  },
  {
   "cell_type": "code",
   "outputs": [
    {
     "data": {
      "text/plain": "             ClaimNb       Exposure       VehPower         VehAge  \\\ncount  678013.000000  678013.000000  678013.000000  678013.000000   \nmean        0.053247       0.528750       6.454631       7.044265   \nstd         0.240117       0.364442       2.050906       5.666232   \nmin         0.000000       0.002732       4.000000       0.000000   \n25%         0.000000       0.180000       5.000000       2.000000   \n50%         0.000000       0.490000       6.000000       6.000000   \n75%         0.000000       0.990000       7.000000      11.000000   \nmax        16.000000       2.010000      15.000000     100.000000   \n\n             DrivAge     BonusMalus        Density   ClaimAmount  \ncount  678013.000000  678013.000000  678013.000000  6.780130e+05  \nmean       45.499122      59.761502    1792.422405  8.835998e+01  \nstd        14.137444      15.636658    3958.646564  5.822454e+03  \nmin        18.000000      50.000000       1.000000  0.000000e+00  \n25%        34.000000      50.000000      92.000000  0.000000e+00  \n50%        44.000000      50.000000     393.000000  0.000000e+00  \n75%        55.000000      64.000000    1658.000000  0.000000e+00  \nmax       100.000000     230.000000   27000.000000  4.075401e+06  ",
      "text/html": "<div>\n<style scoped>\n    .dataframe tbody tr th:only-of-type {\n        vertical-align: middle;\n    }\n\n    .dataframe tbody tr th {\n        vertical-align: top;\n    }\n\n    .dataframe thead th {\n        text-align: right;\n    }\n</style>\n<table border=\"1\" class=\"dataframe\">\n  <thead>\n    <tr style=\"text-align: right;\">\n      <th></th>\n      <th>ClaimNb</th>\n      <th>Exposure</th>\n      <th>VehPower</th>\n      <th>VehAge</th>\n      <th>DrivAge</th>\n      <th>BonusMalus</th>\n      <th>Density</th>\n      <th>ClaimAmount</th>\n    </tr>\n  </thead>\n  <tbody>\n    <tr>\n      <th>count</th>\n      <td>678013.000000</td>\n      <td>678013.000000</td>\n      <td>678013.000000</td>\n      <td>678013.000000</td>\n      <td>678013.000000</td>\n      <td>678013.000000</td>\n      <td>678013.000000</td>\n      <td>6.780130e+05</td>\n    </tr>\n    <tr>\n      <th>mean</th>\n      <td>0.053247</td>\n      <td>0.528750</td>\n      <td>6.454631</td>\n      <td>7.044265</td>\n      <td>45.499122</td>\n      <td>59.761502</td>\n      <td>1792.422405</td>\n      <td>8.835998e+01</td>\n    </tr>\n    <tr>\n      <th>std</th>\n      <td>0.240117</td>\n      <td>0.364442</td>\n      <td>2.050906</td>\n      <td>5.666232</td>\n      <td>14.137444</td>\n      <td>15.636658</td>\n      <td>3958.646564</td>\n      <td>5.822454e+03</td>\n    </tr>\n    <tr>\n      <th>min</th>\n      <td>0.000000</td>\n      <td>0.002732</td>\n      <td>4.000000</td>\n      <td>0.000000</td>\n      <td>18.000000</td>\n      <td>50.000000</td>\n      <td>1.000000</td>\n      <td>0.000000e+00</td>\n    </tr>\n    <tr>\n      <th>25%</th>\n      <td>0.000000</td>\n      <td>0.180000</td>\n      <td>5.000000</td>\n      <td>2.000000</td>\n      <td>34.000000</td>\n      <td>50.000000</td>\n      <td>92.000000</td>\n      <td>0.000000e+00</td>\n    </tr>\n    <tr>\n      <th>50%</th>\n      <td>0.000000</td>\n      <td>0.490000</td>\n      <td>6.000000</td>\n      <td>6.000000</td>\n      <td>44.000000</td>\n      <td>50.000000</td>\n      <td>393.000000</td>\n      <td>0.000000e+00</td>\n    </tr>\n    <tr>\n      <th>75%</th>\n      <td>0.000000</td>\n      <td>0.990000</td>\n      <td>7.000000</td>\n      <td>11.000000</td>\n      <td>55.000000</td>\n      <td>64.000000</td>\n      <td>1658.000000</td>\n      <td>0.000000e+00</td>\n    </tr>\n    <tr>\n      <th>max</th>\n      <td>16.000000</td>\n      <td>2.010000</td>\n      <td>15.000000</td>\n      <td>100.000000</td>\n      <td>100.000000</td>\n      <td>230.000000</td>\n      <td>27000.000000</td>\n      <td>4.075401e+06</td>\n    </tr>\n  </tbody>\n</table>\n</div>"
     },
     "execution_count": 4,
     "metadata": {},
     "output_type": "execute_result"
    }
   ],
   "source": [
    "df.describe()"
   ],
   "metadata": {
    "collapsed": false,
    "ExecuteTime": {
     "end_time": "2024-01-29T17:33:38.557873300Z",
     "start_time": "2024-01-29T17:33:38.339827800Z"
    }
   },
   "id": "dbd4a4664e18f5dc",
   "execution_count": 4
  },
  {
   "cell_type": "markdown",
   "source": [
    "# preprocess data"
   ],
   "metadata": {
    "collapsed": false
   },
   "id": "9ab6808ac6942479"
  },
  {
   "cell_type": "code",
   "outputs": [
    {
     "data": {
      "text/plain": "         ClaimNb  Exposure Area  VehPower  VehAge  DrivAge  BonusMalus  \\\nIDpol                                                                    \n1              0   0.10000    D         5       0       55          50   \n3              0   0.77000    D         5       0       55          50   \n5              0   0.75000    B         6       2       52          50   \n10             0   0.09000    B         7       0       46          50   \n11             0   0.84000    B         7       0       46          50   \n...          ...       ...  ...       ...     ...      ...         ...   \n6114326        0   0.00274    E         4       0       54          50   \n6114327        0   0.00274    E         4       0       41          95   \n6114328        0   0.00274    D         6       2       45          50   \n6114329        0   0.00274    B         4       0       60          50   \n6114330        0   0.00274    B         7       6       29          54   \n\n        VehBrand   VehGas  Density Region  ClaimAmount  Frequency  \nIDpol                                                              \n1            B12  Regular     1217    R82          0.0        0.0  \n3            B12  Regular     1217    R82          0.0        0.0  \n5            B12   Diesel       54    R22          0.0        0.0  \n10           B12   Diesel       76    R72          0.0        0.0  \n11           B12   Diesel       76    R72          0.0        0.0  \n...          ...      ...      ...    ...          ...        ...  \n6114326      B12  Regular     3317    R93          0.0        0.0  \n6114327      B12  Regular     9850    R11          0.0        0.0  \n6114328      B12   Diesel     1323    R82          0.0        0.0  \n6114329      B12  Regular       95    R26          0.0        0.0  \n6114330      B12   Diesel       65    R72          0.0        0.0  \n\n[678013 rows x 13 columns]",
      "text/html": "<div>\n<style scoped>\n    .dataframe tbody tr th:only-of-type {\n        vertical-align: middle;\n    }\n\n    .dataframe tbody tr th {\n        vertical-align: top;\n    }\n\n    .dataframe thead th {\n        text-align: right;\n    }\n</style>\n<table border=\"1\" class=\"dataframe\">\n  <thead>\n    <tr style=\"text-align: right;\">\n      <th></th>\n      <th>ClaimNb</th>\n      <th>Exposure</th>\n      <th>Area</th>\n      <th>VehPower</th>\n      <th>VehAge</th>\n      <th>DrivAge</th>\n      <th>BonusMalus</th>\n      <th>VehBrand</th>\n      <th>VehGas</th>\n      <th>Density</th>\n      <th>Region</th>\n      <th>ClaimAmount</th>\n      <th>Frequency</th>\n    </tr>\n    <tr>\n      <th>IDpol</th>\n      <th></th>\n      <th></th>\n      <th></th>\n      <th></th>\n      <th></th>\n      <th></th>\n      <th></th>\n      <th></th>\n      <th></th>\n      <th></th>\n      <th></th>\n      <th></th>\n      <th></th>\n    </tr>\n  </thead>\n  <tbody>\n    <tr>\n      <th>1</th>\n      <td>0</td>\n      <td>0.10000</td>\n      <td>D</td>\n      <td>5</td>\n      <td>0</td>\n      <td>55</td>\n      <td>50</td>\n      <td>B12</td>\n      <td>Regular</td>\n      <td>1217</td>\n      <td>R82</td>\n      <td>0.0</td>\n      <td>0.0</td>\n    </tr>\n    <tr>\n      <th>3</th>\n      <td>0</td>\n      <td>0.77000</td>\n      <td>D</td>\n      <td>5</td>\n      <td>0</td>\n      <td>55</td>\n      <td>50</td>\n      <td>B12</td>\n      <td>Regular</td>\n      <td>1217</td>\n      <td>R82</td>\n      <td>0.0</td>\n      <td>0.0</td>\n    </tr>\n    <tr>\n      <th>5</th>\n      <td>0</td>\n      <td>0.75000</td>\n      <td>B</td>\n      <td>6</td>\n      <td>2</td>\n      <td>52</td>\n      <td>50</td>\n      <td>B12</td>\n      <td>Diesel</td>\n      <td>54</td>\n      <td>R22</td>\n      <td>0.0</td>\n      <td>0.0</td>\n    </tr>\n    <tr>\n      <th>10</th>\n      <td>0</td>\n      <td>0.09000</td>\n      <td>B</td>\n      <td>7</td>\n      <td>0</td>\n      <td>46</td>\n      <td>50</td>\n      <td>B12</td>\n      <td>Diesel</td>\n      <td>76</td>\n      <td>R72</td>\n      <td>0.0</td>\n      <td>0.0</td>\n    </tr>\n    <tr>\n      <th>11</th>\n      <td>0</td>\n      <td>0.84000</td>\n      <td>B</td>\n      <td>7</td>\n      <td>0</td>\n      <td>46</td>\n      <td>50</td>\n      <td>B12</td>\n      <td>Diesel</td>\n      <td>76</td>\n      <td>R72</td>\n      <td>0.0</td>\n      <td>0.0</td>\n    </tr>\n    <tr>\n      <th>...</th>\n      <td>...</td>\n      <td>...</td>\n      <td>...</td>\n      <td>...</td>\n      <td>...</td>\n      <td>...</td>\n      <td>...</td>\n      <td>...</td>\n      <td>...</td>\n      <td>...</td>\n      <td>...</td>\n      <td>...</td>\n      <td>...</td>\n    </tr>\n    <tr>\n      <th>6114326</th>\n      <td>0</td>\n      <td>0.00274</td>\n      <td>E</td>\n      <td>4</td>\n      <td>0</td>\n      <td>54</td>\n      <td>50</td>\n      <td>B12</td>\n      <td>Regular</td>\n      <td>3317</td>\n      <td>R93</td>\n      <td>0.0</td>\n      <td>0.0</td>\n    </tr>\n    <tr>\n      <th>6114327</th>\n      <td>0</td>\n      <td>0.00274</td>\n      <td>E</td>\n      <td>4</td>\n      <td>0</td>\n      <td>41</td>\n      <td>95</td>\n      <td>B12</td>\n      <td>Regular</td>\n      <td>9850</td>\n      <td>R11</td>\n      <td>0.0</td>\n      <td>0.0</td>\n    </tr>\n    <tr>\n      <th>6114328</th>\n      <td>0</td>\n      <td>0.00274</td>\n      <td>D</td>\n      <td>6</td>\n      <td>2</td>\n      <td>45</td>\n      <td>50</td>\n      <td>B12</td>\n      <td>Diesel</td>\n      <td>1323</td>\n      <td>R82</td>\n      <td>0.0</td>\n      <td>0.0</td>\n    </tr>\n    <tr>\n      <th>6114329</th>\n      <td>0</td>\n      <td>0.00274</td>\n      <td>B</td>\n      <td>4</td>\n      <td>0</td>\n      <td>60</td>\n      <td>50</td>\n      <td>B12</td>\n      <td>Regular</td>\n      <td>95</td>\n      <td>R26</td>\n      <td>0.0</td>\n      <td>0.0</td>\n    </tr>\n    <tr>\n      <th>6114330</th>\n      <td>0</td>\n      <td>0.00274</td>\n      <td>B</td>\n      <td>7</td>\n      <td>6</td>\n      <td>29</td>\n      <td>54</td>\n      <td>B12</td>\n      <td>Diesel</td>\n      <td>65</td>\n      <td>R72</td>\n      <td>0.0</td>\n      <td>0.0</td>\n    </tr>\n  </tbody>\n</table>\n<p>678013 rows × 13 columns</p>\n</div>"
     },
     "execution_count": 5,
     "metadata": {},
     "output_type": "execute_result"
    }
   ],
   "source": [
    "# Remove outliers\n",
    "# Correct for unreasonable observations (that might be data error)\n",
    "# and a few exceptionally large claim amounts\n",
    "df[\"ClaimNb\"] = df[\"ClaimNb\"].clip(upper=4)\n",
    "df[\"Exposure\"] = df[\"Exposure\"].clip(upper=1)\n",
    "df[\"ClaimAmount\"] = df[\"ClaimAmount\"].clip(upper=200000)\n",
    "\n",
    "# If the claim amount is 0, then we do not count it as a claim. The loss function\n",
    "# used by the severity model needs strictly positive claim amounts. This way\n",
    "# frequency and severity are more consistent with each other.\n",
    "df.loc[(df[\"ClaimAmount\"] == 0) & (df[\"ClaimNb\"] >= 1), \"ClaimNb\"] = 0\n",
    "\n",
    "df[\"Frequency\"] = df[\"ClaimNb\"] / df[\"Exposure\"]\n",
    "# df = df.drop(columns=[\"ClaimNb\", \"Exposure\", \"ClaimAmount\"])\n",
    "df"
   ],
   "metadata": {
    "collapsed": false,
    "ExecuteTime": {
     "end_time": "2024-01-29T17:33:38.587016100Z",
     "start_time": "2024-01-29T17:33:38.499859700Z"
    }
   },
   "id": "aca7331ac7543943",
   "execution_count": 5
  },
  {
   "cell_type": "code",
   "outputs": [
    {
     "data": {
      "text/plain": "        BN_VehAge_0.0  BN_VehAge_1.0  BN_VehAge_2.0  BN_VehAge_3.0  \\\n0                 1.0            0.0            0.0            0.0   \n1                 1.0            0.0            0.0            0.0   \n2                 0.0            0.0            1.0            0.0   \n3                 1.0            0.0            0.0            0.0   \n4                 1.0            0.0            0.0            0.0   \n...               ...            ...            ...            ...   \n678008            1.0            0.0            0.0            0.0   \n678009            1.0            0.0            0.0            0.0   \n678010            0.0            0.0            1.0            0.0   \n678011            1.0            0.0            0.0            0.0   \n678012            0.0            0.0            0.0            0.0   \n\n        BN_VehAge_4.0  BN_VehAge_5.0  BN_VehAge_6.0  BN_VehAge_7.0  \\\n0                 0.0            0.0            0.0            0.0   \n1                 0.0            0.0            0.0            0.0   \n2                 0.0            0.0            0.0            0.0   \n3                 0.0            0.0            0.0            0.0   \n4                 0.0            0.0            0.0            0.0   \n...               ...            ...            ...            ...   \n678008            0.0            0.0            0.0            0.0   \n678009            0.0            0.0            0.0            0.0   \n678010            0.0            0.0            0.0            0.0   \n678011            0.0            0.0            0.0            0.0   \n678012            0.0            1.0            0.0            0.0   \n\n        BN_VehAge_8.0  BN_VehAge_9.0  ...  OH_Area_C  OH_Area_D  OH_Area_E  \\\n0                 0.0            0.0  ...        0.0        1.0        0.0   \n1                 0.0            0.0  ...        0.0        1.0        0.0   \n2                 0.0            0.0  ...        0.0        0.0        0.0   \n3                 0.0            0.0  ...        0.0        0.0        0.0   \n4                 0.0            0.0  ...        0.0        0.0        0.0   \n...               ...            ...  ...        ...        ...        ...   \n678008            0.0            0.0  ...        0.0        0.0        1.0   \n678009            0.0            0.0  ...        0.0        0.0        1.0   \n678010            0.0            0.0  ...        0.0        1.0        0.0   \n678011            0.0            0.0  ...        0.0        0.0        0.0   \n678012            0.0            0.0  ...        0.0        0.0        0.0   \n\n        OH_Area_F  ClaimNb  Exposure  BonusMalus   Density  ClaimAmount  \\\n0             0.0      0.0   0.10000        50.0  0.600055          0.0   \n1             0.0      0.0   0.77000        50.0  0.600055          0.0   \n2             0.0      0.0   0.75000        50.0 -1.065404          0.0   \n3             0.0      0.0   0.09000        50.0 -0.882694          0.0   \n4             0.0      0.0   0.84000        50.0 -0.882694          0.0   \n...           ...      ...       ...         ...       ...          ...   \n678008        0.0      0.0   0.00274        50.0  1.136113          0.0   \n678009        0.0      0.0   0.00274        95.0  1.718010          0.0   \n678010        0.0      0.0   0.00274        50.0  0.644703          0.0   \n678011        0.0      0.0   0.00274        50.0 -0.763395          0.0   \n678012        0.0      0.0   0.00274        54.0 -0.966282          0.0   \n\n        Frequency  \n0             0.0  \n1             0.0  \n2             0.0  \n3             0.0  \n4             0.0  \n...           ...  \n678008        0.0  \n678009        0.0  \n678010        0.0  \n678011        0.0  \n678012        0.0  \n\n[678013 rows x 79 columns]",
      "text/html": "<div>\n<style scoped>\n    .dataframe tbody tr th:only-of-type {\n        vertical-align: middle;\n    }\n\n    .dataframe tbody tr th {\n        vertical-align: top;\n    }\n\n    .dataframe thead th {\n        text-align: right;\n    }\n</style>\n<table border=\"1\" class=\"dataframe\">\n  <thead>\n    <tr style=\"text-align: right;\">\n      <th></th>\n      <th>BN_VehAge_0.0</th>\n      <th>BN_VehAge_1.0</th>\n      <th>BN_VehAge_2.0</th>\n      <th>BN_VehAge_3.0</th>\n      <th>BN_VehAge_4.0</th>\n      <th>BN_VehAge_5.0</th>\n      <th>BN_VehAge_6.0</th>\n      <th>BN_VehAge_7.0</th>\n      <th>BN_VehAge_8.0</th>\n      <th>BN_VehAge_9.0</th>\n      <th>...</th>\n      <th>OH_Area_C</th>\n      <th>OH_Area_D</th>\n      <th>OH_Area_E</th>\n      <th>OH_Area_F</th>\n      <th>ClaimNb</th>\n      <th>Exposure</th>\n      <th>BonusMalus</th>\n      <th>Density</th>\n      <th>ClaimAmount</th>\n      <th>Frequency</th>\n    </tr>\n  </thead>\n  <tbody>\n    <tr>\n      <th>0</th>\n      <td>1.0</td>\n      <td>0.0</td>\n      <td>0.0</td>\n      <td>0.0</td>\n      <td>0.0</td>\n      <td>0.0</td>\n      <td>0.0</td>\n      <td>0.0</td>\n      <td>0.0</td>\n      <td>0.0</td>\n      <td>...</td>\n      <td>0.0</td>\n      <td>1.0</td>\n      <td>0.0</td>\n      <td>0.0</td>\n      <td>0.0</td>\n      <td>0.10000</td>\n      <td>50.0</td>\n      <td>0.600055</td>\n      <td>0.0</td>\n      <td>0.0</td>\n    </tr>\n    <tr>\n      <th>1</th>\n      <td>1.0</td>\n      <td>0.0</td>\n      <td>0.0</td>\n      <td>0.0</td>\n      <td>0.0</td>\n      <td>0.0</td>\n      <td>0.0</td>\n      <td>0.0</td>\n      <td>0.0</td>\n      <td>0.0</td>\n      <td>...</td>\n      <td>0.0</td>\n      <td>1.0</td>\n      <td>0.0</td>\n      <td>0.0</td>\n      <td>0.0</td>\n      <td>0.77000</td>\n      <td>50.0</td>\n      <td>0.600055</td>\n      <td>0.0</td>\n      <td>0.0</td>\n    </tr>\n    <tr>\n      <th>2</th>\n      <td>0.0</td>\n      <td>0.0</td>\n      <td>1.0</td>\n      <td>0.0</td>\n      <td>0.0</td>\n      <td>0.0</td>\n      <td>0.0</td>\n      <td>0.0</td>\n      <td>0.0</td>\n      <td>0.0</td>\n      <td>...</td>\n      <td>0.0</td>\n      <td>0.0</td>\n      <td>0.0</td>\n      <td>0.0</td>\n      <td>0.0</td>\n      <td>0.75000</td>\n      <td>50.0</td>\n      <td>-1.065404</td>\n      <td>0.0</td>\n      <td>0.0</td>\n    </tr>\n    <tr>\n      <th>3</th>\n      <td>1.0</td>\n      <td>0.0</td>\n      <td>0.0</td>\n      <td>0.0</td>\n      <td>0.0</td>\n      <td>0.0</td>\n      <td>0.0</td>\n      <td>0.0</td>\n      <td>0.0</td>\n      <td>0.0</td>\n      <td>...</td>\n      <td>0.0</td>\n      <td>0.0</td>\n      <td>0.0</td>\n      <td>0.0</td>\n      <td>0.0</td>\n      <td>0.09000</td>\n      <td>50.0</td>\n      <td>-0.882694</td>\n      <td>0.0</td>\n      <td>0.0</td>\n    </tr>\n    <tr>\n      <th>4</th>\n      <td>1.0</td>\n      <td>0.0</td>\n      <td>0.0</td>\n      <td>0.0</td>\n      <td>0.0</td>\n      <td>0.0</td>\n      <td>0.0</td>\n      <td>0.0</td>\n      <td>0.0</td>\n      <td>0.0</td>\n      <td>...</td>\n      <td>0.0</td>\n      <td>0.0</td>\n      <td>0.0</td>\n      <td>0.0</td>\n      <td>0.0</td>\n      <td>0.84000</td>\n      <td>50.0</td>\n      <td>-0.882694</td>\n      <td>0.0</td>\n      <td>0.0</td>\n    </tr>\n    <tr>\n      <th>...</th>\n      <td>...</td>\n      <td>...</td>\n      <td>...</td>\n      <td>...</td>\n      <td>...</td>\n      <td>...</td>\n      <td>...</td>\n      <td>...</td>\n      <td>...</td>\n      <td>...</td>\n      <td>...</td>\n      <td>...</td>\n      <td>...</td>\n      <td>...</td>\n      <td>...</td>\n      <td>...</td>\n      <td>...</td>\n      <td>...</td>\n      <td>...</td>\n      <td>...</td>\n      <td>...</td>\n    </tr>\n    <tr>\n      <th>678008</th>\n      <td>1.0</td>\n      <td>0.0</td>\n      <td>0.0</td>\n      <td>0.0</td>\n      <td>0.0</td>\n      <td>0.0</td>\n      <td>0.0</td>\n      <td>0.0</td>\n      <td>0.0</td>\n      <td>0.0</td>\n      <td>...</td>\n      <td>0.0</td>\n      <td>0.0</td>\n      <td>1.0</td>\n      <td>0.0</td>\n      <td>0.0</td>\n      <td>0.00274</td>\n      <td>50.0</td>\n      <td>1.136113</td>\n      <td>0.0</td>\n      <td>0.0</td>\n    </tr>\n    <tr>\n      <th>678009</th>\n      <td>1.0</td>\n      <td>0.0</td>\n      <td>0.0</td>\n      <td>0.0</td>\n      <td>0.0</td>\n      <td>0.0</td>\n      <td>0.0</td>\n      <td>0.0</td>\n      <td>0.0</td>\n      <td>0.0</td>\n      <td>...</td>\n      <td>0.0</td>\n      <td>0.0</td>\n      <td>1.0</td>\n      <td>0.0</td>\n      <td>0.0</td>\n      <td>0.00274</td>\n      <td>95.0</td>\n      <td>1.718010</td>\n      <td>0.0</td>\n      <td>0.0</td>\n    </tr>\n    <tr>\n      <th>678010</th>\n      <td>0.0</td>\n      <td>0.0</td>\n      <td>1.0</td>\n      <td>0.0</td>\n      <td>0.0</td>\n      <td>0.0</td>\n      <td>0.0</td>\n      <td>0.0</td>\n      <td>0.0</td>\n      <td>0.0</td>\n      <td>...</td>\n      <td>0.0</td>\n      <td>1.0</td>\n      <td>0.0</td>\n      <td>0.0</td>\n      <td>0.0</td>\n      <td>0.00274</td>\n      <td>50.0</td>\n      <td>0.644703</td>\n      <td>0.0</td>\n      <td>0.0</td>\n    </tr>\n    <tr>\n      <th>678011</th>\n      <td>1.0</td>\n      <td>0.0</td>\n      <td>0.0</td>\n      <td>0.0</td>\n      <td>0.0</td>\n      <td>0.0</td>\n      <td>0.0</td>\n      <td>0.0</td>\n      <td>0.0</td>\n      <td>0.0</td>\n      <td>...</td>\n      <td>0.0</td>\n      <td>0.0</td>\n      <td>0.0</td>\n      <td>0.0</td>\n      <td>0.0</td>\n      <td>0.00274</td>\n      <td>50.0</td>\n      <td>-0.763395</td>\n      <td>0.0</td>\n      <td>0.0</td>\n    </tr>\n    <tr>\n      <th>678012</th>\n      <td>0.0</td>\n      <td>0.0</td>\n      <td>0.0</td>\n      <td>0.0</td>\n      <td>0.0</td>\n      <td>1.0</td>\n      <td>0.0</td>\n      <td>0.0</td>\n      <td>0.0</td>\n      <td>0.0</td>\n      <td>...</td>\n      <td>0.0</td>\n      <td>0.0</td>\n      <td>0.0</td>\n      <td>0.0</td>\n      <td>0.0</td>\n      <td>0.00274</td>\n      <td>54.0</td>\n      <td>-0.966282</td>\n      <td>0.0</td>\n      <td>0.0</td>\n    </tr>\n  </tbody>\n</table>\n<p>678013 rows × 79 columns</p>\n</div>"
     },
     "execution_count": 6,
     "metadata": {},
     "output_type": "execute_result"
    }
   ],
   "source": [
    "from sklearn.compose import ColumnTransformer\n",
    "from sklearn.pipeline import make_pipeline\n",
    "from sklearn.preprocessing import (\n",
    "    FunctionTransformer,\n",
    "    KBinsDiscretizer,\n",
    "    OneHotEncoder,\n",
    "    StandardScaler,\n",
    ")\n",
    "\n",
    "log_scale_transformer = make_pipeline(\n",
    "    FunctionTransformer(func=np.log), StandardScaler()\n",
    ")\n",
    "\n",
    "column_trans = ColumnTransformer(\n",
    "    [\n",
    "        (\n",
    "            \"BN\",  # binned_numeric\n",
    "            KBinsDiscretizer(n_bins=10, subsample=int(2e5), random_state=0),\n",
    "            [\"VehAge\", \"DrivAge\"],\n",
    "        ),\n",
    "        (\n",
    "            \"OH\",  # onehot_categorical\n",
    "            OneHotEncoder(),\n",
    "            [\"VehBrand\", \"VehPower\", \"VehGas\", \"Region\", \"Area\"],\n",
    "        ),\n",
    "        # (\"passthrough_numeric\", \"passthrough\", [\"BonusMalus\"]),\n",
    "        # (\"log_scaled_numeric\", log_scale_transformer, [\"Density\"]),\n",
    "    ],\n",
    "    remainder=\"passthrough\",\n",
    ")\n",
    "\n",
    "df = pd.DataFrame(column_trans.fit_transform(df).toarray(), columns=column_trans.get_feature_names_out())\n",
    "df = df.rename(\n",
    "    columns={_: _.replace(\"__\", \"_\") if \"remainder__\" not in _ else _.replace(\"remainder__\", \"\") for _ in df.columns})\n",
    "\n",
    "standard_scaler = StandardScaler()\n",
    "df[\"Density\"] = standard_scaler.fit_transform(np.log(df[\"Density\"]).values.reshape(-1, 1))\n",
    "\n",
    "df"
   ],
   "metadata": {
    "collapsed": false,
    "ExecuteTime": {
     "end_time": "2024-01-29T17:33:39.979311800Z",
     "start_time": "2024-01-29T17:33:38.547874500Z"
    }
   },
   "id": "8f7a08cf34d2d432",
   "execution_count": 6
  },
  {
   "cell_type": "code",
   "outputs": [],
   "source": [
    "# split train test data\n",
    "from sklearn.model_selection import train_test_split\n",
    "\n",
    "X = df.drop(columns=[\"ClaimNb\", \"Exposure\", \"ClaimAmount\", \"Frequency\"])\n",
    "y = df[[\"ClaimNb\", \"Exposure\", \"ClaimAmount\", \"Frequency\"]]\n",
    "X_train, X_test, y_train, y_test = train_test_split(X, y, test_size=0.2, random_state=0)\n",
    "\n",
    "y_train_exposure = y_train[\"Exposure\"]\n",
    "y_test_exposure = y_test[\"Exposure\"]\n",
    "\n",
    "y_train = y_train[\"Frequency\"]\n",
    "y_test = y_test[\"Frequency\"]"
   ],
   "metadata": {
    "collapsed": false,
    "ExecuteTime": {
     "end_time": "2024-01-29T17:35:35.479497900Z",
     "start_time": "2024-01-29T17:35:35.092189600Z"
    }
   },
   "id": "6f39a0f0c651202b",
   "execution_count": 10
  },
  {
   "cell_type": "code",
   "outputs": [],
   "source": [
    "def get_score(y_test, y_pred, weight):\n",
    "    from sklearn.metrics import mean_squared_error, mean_poisson_deviance, mean_absolute_error, max_error\n",
    "    if np.any(y_pred < 0):\n",
    "        print(\"Negative predictions found, replacing with 0\")\n",
    "        y_pred = np.where(y_pred < 0, np.finfo(float).eps, y_pred)\n",
    "\n",
    "    print(f\"MSE: {mean_squared_error(y_test, y_pred, sample_weight=weight):.4f}\")\n",
    "    print(f\"MAE: {mean_absolute_error(y_test, y_pred, sample_weight=weight):.4f}\")\n",
    "    print(f\"Max Error: {max_error(y_test, y_pred):.4f}\")\n",
    "    print(f\"Mean Poisson Deviance: {mean_poisson_deviance(y_test, y_pred, sample_weight=weight):.4f}\")"
   ],
   "metadata": {
    "collapsed": false,
    "ExecuteTime": {
     "end_time": "2024-01-29T18:00:29.370156Z",
     "start_time": "2024-01-29T18:00:29.363156600Z"
    }
   },
   "id": "96a3d20eec834746",
   "execution_count": 47
  },
  {
   "cell_type": "markdown",
   "source": [
    "# Intercept Only Model"
   ],
   "metadata": {
    "collapsed": false
   },
   "id": "780703c323e58589"
  },
  {
   "cell_type": "code",
   "outputs": [
    {
     "name": "stdout",
     "output_type": "stream",
     "text": [
      "MSE: 0.2268\n",
      "MAE: 0.1817\n",
      "Max Error: 364.8799\n",
      "Mean Poisson Deviance: 0.4960\n"
     ]
    }
   ],
   "source": [
    "\n",
    "y_pred = y_train.mean() * np.ones_like(y_test)\n",
    "get_score(y_test, y_pred, y_test_exposure)"
   ],
   "metadata": {
    "collapsed": false,
    "ExecuteTime": {
     "end_time": "2024-01-29T18:00:37.178568500Z",
     "start_time": "2024-01-29T18:00:37.162569100Z"
    }
   },
   "id": "691db3277aa19040",
   "execution_count": 48
  },
  {
   "cell_type": "markdown",
   "source": [
    "# Linear Regression"
   ],
   "metadata": {
    "collapsed": false
   },
   "id": "38cced77af75632a"
  },
  {
   "cell_type": "code",
   "outputs": [
    {
     "name": "stdout",
     "output_type": "stream",
     "text": [
      "Negative predictions found, replacing with 0\n",
      "MSE: 0.2227\n",
      "MAE: 0.1378\n",
      "Max Error: 364.8496\n",
      "Mean Poisson Deviance: 0.4636\n"
     ]
    }
   ],
   "source": [
    "from sklearn.linear_model import LinearRegression\n",
    "\n",
    "lr = LinearRegression()\n",
    "lr.fit(X_train, y_train, sample_weight=y_train_exposure)\n",
    "y_pred = lr.predict(X_test)\n",
    "get_score(y_test, y_pred, y_test_exposure)"
   ],
   "metadata": {
    "collapsed": false,
    "ExecuteTime": {
     "end_time": "2024-01-29T18:00:41.584134200Z",
     "start_time": "2024-01-29T18:00:40.176584200Z"
    }
   },
   "id": "499cad1eaa137a53",
   "execution_count": 49
  },
  {
   "cell_type": "markdown",
   "source": [
    "# GLM Poisson"
   ],
   "metadata": {
    "collapsed": false
   },
   "id": "27eb4750994cdee4"
  },
  {
   "cell_type": "code",
   "outputs": [
    {
     "name": "stdout",
     "output_type": "stream",
     "text": [
      "MSE: 0.2237\n",
      "MAE: 0.1376\n",
      "Max Error: 364.8857\n",
      "Mean Poisson Deviance: 0.4546\n"
     ]
    }
   ],
   "source": [
    "from sklearn.linear_model import PoissonRegressor\n",
    "\n",
    "pr = PoissonRegressor(\n",
    "    alpha=1e-4, solver=\"newton-cholesky\",\n",
    ")\n",
    "pr.fit(X_train, y_train, sample_weight=y_train_exposure)\n",
    "y_pred = pr.predict(X_test)\n",
    "get_score(y_test, y_pred, y_test_exposure)"
   ],
   "metadata": {
    "collapsed": false,
    "ExecuteTime": {
     "end_time": "2024-01-29T18:00:47.962088300Z",
     "start_time": "2024-01-29T18:00:46.744789200Z"
    }
   },
   "id": "1c4d15a3b9f22528",
   "execution_count": 50
  },
  {
   "cell_type": "markdown",
   "source": [
    "# XGBoost"
   ],
   "metadata": {
    "collapsed": false
   },
   "id": "f92fa577a48a0f73"
  },
  {
   "cell_type": "code",
   "outputs": [
    {
     "name": "stdout",
     "output_type": "stream",
     "text": [
      "      Iter       Train Loss   Remaining Time \n",
      "         1           0.0000            5.50s\n",
      "         2           0.0000            5.17s\n",
      "         3           0.0000            5.14s\n",
      "         4           0.0000            5.16s\n",
      "         5           0.0000            5.20s\n",
      "         6           0.0000            5.12s\n",
      "         7           0.0000            5.06s\n",
      "         8           0.0000            5.02s\n",
      "         9           0.0000            4.94s\n",
      "        10           0.0000            4.85s\n",
      "        20           0.0000            4.25s\n",
      "        30           0.0000            3.77s\n",
      "        40           0.0000            3.23s\n",
      "        50           0.0000            2.68s\n",
      "        60           0.0000            2.14s\n",
      "        70           0.0000            1.61s\n",
      "        80           0.0000            1.07s\n",
      "        90           0.0000            0.53s\n",
      "       100           0.0000            0.00s\n",
      "MSE: 0.2300\n",
      "MAE: 0.0732\n",
      "Max Error: 365.0000\n"
     ]
    },
    {
     "ename": "ValueError",
     "evalue": "Mean Tweedie deviance error with power=1 can only be used on non-negative y and strictly positive y_pred.",
     "output_type": "error",
     "traceback": [
      "\u001B[1;31m---------------------------------------------------------------------------\u001B[0m",
      "\u001B[1;31mValueError\u001B[0m                                Traceback (most recent call last)",
      "Cell \u001B[1;32mIn[58], line 33\u001B[0m\n\u001B[0;32m     31\u001B[0m xgb\u001B[38;5;241m.\u001B[39mfit(X_train, y_train, sample_weight\u001B[38;5;241m=\u001B[39my_train_exposure)\n\u001B[0;32m     32\u001B[0m y_pred \u001B[38;5;241m=\u001B[39m xgb\u001B[38;5;241m.\u001B[39mpredict(X_test)\n\u001B[1;32m---> 33\u001B[0m \u001B[43mget_score\u001B[49m\u001B[43m(\u001B[49m\u001B[43my_test\u001B[49m\u001B[43m,\u001B[49m\u001B[43m \u001B[49m\u001B[43my_pred\u001B[49m\u001B[43m,\u001B[49m\u001B[43m \u001B[49m\u001B[43my_test_exposure\u001B[49m\u001B[43m)\u001B[49m\n",
      "Cell \u001B[1;32mIn[47], line 10\u001B[0m, in \u001B[0;36mget_score\u001B[1;34m(y_test, y_pred, weight)\u001B[0m\n\u001B[0;32m      8\u001B[0m \u001B[38;5;28mprint\u001B[39m(\u001B[38;5;124mf\u001B[39m\u001B[38;5;124m\"\u001B[39m\u001B[38;5;124mMAE: \u001B[39m\u001B[38;5;132;01m{\u001B[39;00mmean_absolute_error(y_test,\u001B[38;5;250m \u001B[39my_pred,\u001B[38;5;250m \u001B[39msample_weight\u001B[38;5;241m=\u001B[39mweight)\u001B[38;5;132;01m:\u001B[39;00m\u001B[38;5;124m.4f\u001B[39m\u001B[38;5;132;01m}\u001B[39;00m\u001B[38;5;124m\"\u001B[39m)\n\u001B[0;32m      9\u001B[0m \u001B[38;5;28mprint\u001B[39m(\u001B[38;5;124mf\u001B[39m\u001B[38;5;124m\"\u001B[39m\u001B[38;5;124mMax Error: \u001B[39m\u001B[38;5;132;01m{\u001B[39;00mmax_error(y_test,\u001B[38;5;250m \u001B[39my_pred)\u001B[38;5;132;01m:\u001B[39;00m\u001B[38;5;124m.4f\u001B[39m\u001B[38;5;132;01m}\u001B[39;00m\u001B[38;5;124m\"\u001B[39m)\n\u001B[1;32m---> 10\u001B[0m \u001B[38;5;28mprint\u001B[39m(\u001B[38;5;124mf\u001B[39m\u001B[38;5;124m\"\u001B[39m\u001B[38;5;124mMean Poisson Deviance: \u001B[39m\u001B[38;5;132;01m{\u001B[39;00m\u001B[43mmean_poisson_deviance\u001B[49m\u001B[43m(\u001B[49m\u001B[43my_test\u001B[49m\u001B[43m,\u001B[49m\u001B[38;5;250;43m \u001B[39;49m\u001B[43my_pred\u001B[49m\u001B[43m,\u001B[49m\u001B[38;5;250;43m \u001B[39;49m\u001B[43msample_weight\u001B[49m\u001B[38;5;241;43m=\u001B[39;49m\u001B[43mweight\u001B[49m\u001B[43m)\u001B[49m\u001B[38;5;132;01m:\u001B[39;00m\u001B[38;5;124m.4f\u001B[39m\u001B[38;5;132;01m}\u001B[39;00m\u001B[38;5;124m\"\u001B[39m)\n",
      "File \u001B[1;32mD:\\workspace\\GraduateGrade2Term2LSEWT\\PGPC2024\\.venv\\lib\\site-packages\\sklearn\\utils\\_param_validation.py:213\u001B[0m, in \u001B[0;36mvalidate_params.<locals>.decorator.<locals>.wrapper\u001B[1;34m(*args, **kwargs)\u001B[0m\n\u001B[0;32m    207\u001B[0m \u001B[38;5;28;01mtry\u001B[39;00m:\n\u001B[0;32m    208\u001B[0m     \u001B[38;5;28;01mwith\u001B[39;00m config_context(\n\u001B[0;32m    209\u001B[0m         skip_parameter_validation\u001B[38;5;241m=\u001B[39m(\n\u001B[0;32m    210\u001B[0m             prefer_skip_nested_validation \u001B[38;5;129;01mor\u001B[39;00m global_skip_validation\n\u001B[0;32m    211\u001B[0m         )\n\u001B[0;32m    212\u001B[0m     ):\n\u001B[1;32m--> 213\u001B[0m         \u001B[38;5;28;01mreturn\u001B[39;00m func(\u001B[38;5;241m*\u001B[39margs, \u001B[38;5;241m*\u001B[39m\u001B[38;5;241m*\u001B[39mkwargs)\n\u001B[0;32m    214\u001B[0m \u001B[38;5;28;01mexcept\u001B[39;00m InvalidParameterError \u001B[38;5;28;01mas\u001B[39;00m e:\n\u001B[0;32m    215\u001B[0m     \u001B[38;5;66;03m# When the function is just a wrapper around an estimator, we allow\u001B[39;00m\n\u001B[0;32m    216\u001B[0m     \u001B[38;5;66;03m# the function to delegate validation to the estimator, but we replace\u001B[39;00m\n\u001B[0;32m    217\u001B[0m     \u001B[38;5;66;03m# the name of the estimator by the name of the function in the error\u001B[39;00m\n\u001B[0;32m    218\u001B[0m     \u001B[38;5;66;03m# message to avoid confusion.\u001B[39;00m\n\u001B[0;32m    219\u001B[0m     msg \u001B[38;5;241m=\u001B[39m re\u001B[38;5;241m.\u001B[39msub(\n\u001B[0;32m    220\u001B[0m         \u001B[38;5;124mr\u001B[39m\u001B[38;5;124m\"\u001B[39m\u001B[38;5;124mparameter of \u001B[39m\u001B[38;5;124m\\\u001B[39m\u001B[38;5;124mw+ must be\u001B[39m\u001B[38;5;124m\"\u001B[39m,\n\u001B[0;32m    221\u001B[0m         \u001B[38;5;124mf\u001B[39m\u001B[38;5;124m\"\u001B[39m\u001B[38;5;124mparameter of \u001B[39m\u001B[38;5;132;01m{\u001B[39;00mfunc\u001B[38;5;241m.\u001B[39m\u001B[38;5;18m__qualname__\u001B[39m\u001B[38;5;132;01m}\u001B[39;00m\u001B[38;5;124m must be\u001B[39m\u001B[38;5;124m\"\u001B[39m,\n\u001B[0;32m    222\u001B[0m         \u001B[38;5;28mstr\u001B[39m(e),\n\u001B[0;32m    223\u001B[0m     )\n",
      "File \u001B[1;32mD:\\workspace\\GraduateGrade2Term2LSEWT\\PGPC2024\\.venv\\lib\\site-packages\\sklearn\\metrics\\_regression.py:1415\u001B[0m, in \u001B[0;36mmean_poisson_deviance\u001B[1;34m(y_true, y_pred, sample_weight)\u001B[0m\n\u001B[0;32m   1375\u001B[0m \u001B[38;5;129m@validate_params\u001B[39m(\n\u001B[0;32m   1376\u001B[0m     {\n\u001B[0;32m   1377\u001B[0m         \u001B[38;5;124m\"\u001B[39m\u001B[38;5;124my_true\u001B[39m\u001B[38;5;124m\"\u001B[39m: [\u001B[38;5;124m\"\u001B[39m\u001B[38;5;124marray-like\u001B[39m\u001B[38;5;124m\"\u001B[39m],\n\u001B[1;32m   (...)\u001B[0m\n\u001B[0;32m   1382\u001B[0m )\n\u001B[0;32m   1383\u001B[0m \u001B[38;5;28;01mdef\u001B[39;00m \u001B[38;5;21mmean_poisson_deviance\u001B[39m(y_true, y_pred, \u001B[38;5;241m*\u001B[39m, sample_weight\u001B[38;5;241m=\u001B[39m\u001B[38;5;28;01mNone\u001B[39;00m):\n\u001B[0;32m   1384\u001B[0m \u001B[38;5;250m    \u001B[39m\u001B[38;5;124;03m\"\"\"Mean Poisson deviance regression loss.\u001B[39;00m\n\u001B[0;32m   1385\u001B[0m \n\u001B[0;32m   1386\u001B[0m \u001B[38;5;124;03m    Poisson deviance is equivalent to the Tweedie deviance with\u001B[39;00m\n\u001B[1;32m   (...)\u001B[0m\n\u001B[0;32m   1413\u001B[0m \u001B[38;5;124;03m    1.4260...\u001B[39;00m\n\u001B[0;32m   1414\u001B[0m \u001B[38;5;124;03m    \"\"\"\u001B[39;00m\n\u001B[1;32m-> 1415\u001B[0m     \u001B[38;5;28;01mreturn\u001B[39;00m \u001B[43mmean_tweedie_deviance\u001B[49m\u001B[43m(\u001B[49m\u001B[43my_true\u001B[49m\u001B[43m,\u001B[49m\u001B[43m \u001B[49m\u001B[43my_pred\u001B[49m\u001B[43m,\u001B[49m\u001B[43m \u001B[49m\u001B[43msample_weight\u001B[49m\u001B[38;5;241;43m=\u001B[39;49m\u001B[43msample_weight\u001B[49m\u001B[43m,\u001B[49m\u001B[43m \u001B[49m\u001B[43mpower\u001B[49m\u001B[38;5;241;43m=\u001B[39;49m\u001B[38;5;241;43m1\u001B[39;49m\u001B[43m)\u001B[49m\n",
      "File \u001B[1;32mD:\\workspace\\GraduateGrade2Term2LSEWT\\PGPC2024\\.venv\\lib\\site-packages\\sklearn\\utils\\_param_validation.py:186\u001B[0m, in \u001B[0;36mvalidate_params.<locals>.decorator.<locals>.wrapper\u001B[1;34m(*args, **kwargs)\u001B[0m\n\u001B[0;32m    184\u001B[0m global_skip_validation \u001B[38;5;241m=\u001B[39m get_config()[\u001B[38;5;124m\"\u001B[39m\u001B[38;5;124mskip_parameter_validation\u001B[39m\u001B[38;5;124m\"\u001B[39m]\n\u001B[0;32m    185\u001B[0m \u001B[38;5;28;01mif\u001B[39;00m global_skip_validation:\n\u001B[1;32m--> 186\u001B[0m     \u001B[38;5;28;01mreturn\u001B[39;00m func(\u001B[38;5;241m*\u001B[39margs, \u001B[38;5;241m*\u001B[39m\u001B[38;5;241m*\u001B[39mkwargs)\n\u001B[0;32m    188\u001B[0m func_sig \u001B[38;5;241m=\u001B[39m signature(func)\n\u001B[0;32m    190\u001B[0m \u001B[38;5;66;03m# Map *args/**kwargs to the function signature\u001B[39;00m\n",
      "File \u001B[1;32mD:\\workspace\\GraduateGrade2Term2LSEWT\\PGPC2024\\.venv\\lib\\site-packages\\sklearn\\metrics\\_regression.py:1361\u001B[0m, in \u001B[0;36mmean_tweedie_deviance\u001B[1;34m(y_true, y_pred, sample_weight, power)\u001B[0m\n\u001B[0;32m   1358\u001B[0m \u001B[38;5;28;01melif\u001B[39;00m \u001B[38;5;241m1\u001B[39m \u001B[38;5;241m<\u001B[39m\u001B[38;5;241m=\u001B[39m power \u001B[38;5;241m<\u001B[39m \u001B[38;5;241m2\u001B[39m:\n\u001B[0;32m   1359\u001B[0m     \u001B[38;5;66;03m# Poisson and compound Poisson distribution, y >= 0, y_pred > 0\u001B[39;00m\n\u001B[0;32m   1360\u001B[0m     \u001B[38;5;28;01mif\u001B[39;00m (y_true \u001B[38;5;241m<\u001B[39m \u001B[38;5;241m0\u001B[39m)\u001B[38;5;241m.\u001B[39many() \u001B[38;5;129;01mor\u001B[39;00m (y_pred \u001B[38;5;241m<\u001B[39m\u001B[38;5;241m=\u001B[39m \u001B[38;5;241m0\u001B[39m)\u001B[38;5;241m.\u001B[39many():\n\u001B[1;32m-> 1361\u001B[0m         \u001B[38;5;28;01mraise\u001B[39;00m \u001B[38;5;167;01mValueError\u001B[39;00m(message \u001B[38;5;241m+\u001B[39m \u001B[38;5;124m\"\u001B[39m\u001B[38;5;124mnon-negative y and strictly positive y_pred.\u001B[39m\u001B[38;5;124m\"\u001B[39m)\n\u001B[0;32m   1362\u001B[0m \u001B[38;5;28;01melif\u001B[39;00m power \u001B[38;5;241m>\u001B[39m\u001B[38;5;241m=\u001B[39m \u001B[38;5;241m2\u001B[39m:\n\u001B[0;32m   1363\u001B[0m     \u001B[38;5;66;03m# Gamma and Extreme stable distribution, y and y_pred > 0\u001B[39;00m\n\u001B[0;32m   1364\u001B[0m     \u001B[38;5;28;01mif\u001B[39;00m (y_true \u001B[38;5;241m<\u001B[39m\u001B[38;5;241m=\u001B[39m \u001B[38;5;241m0\u001B[39m)\u001B[38;5;241m.\u001B[39many() \u001B[38;5;129;01mor\u001B[39;00m (y_pred \u001B[38;5;241m<\u001B[39m\u001B[38;5;241m=\u001B[39m \u001B[38;5;241m0\u001B[39m)\u001B[38;5;241m.\u001B[39many():\n",
      "\u001B[1;31mValueError\u001B[0m: Mean Tweedie deviance error with power=1 can only be used on non-negative y and strictly positive y_pred."
     ]
    }
   ],
   "source": [
    "\n",
    "# import multiprocessing\n",
    "\n",
    "# from sklearn.model_selection import RandomizedSearchCV\n",
    "\n",
    "from sklearn.ensemble import GradientBoostingRegressor\n",
    "\n",
    "# param_grid = {\"loss\": ['absolute_error', 'quantile', 'squared_error', 'huber'], \"n_estimators\": [100, 1000, 2000]}\n",
    "# \n",
    "# xgb_rscv = RandomizedSearchCV(\n",
    "#     GradientBoostingRegressor(),\n",
    "#     param_grid,\n",
    "#     n_iter=35,\n",
    "#     verbose=True,\n",
    "#     cv=3,\n",
    "#     n_jobs=multiprocessing.cpu_count() - 1,\n",
    "#     scoring='neg_mean_squared_error',\n",
    "#     return_train_score=True)\n",
    "# \n",
    "# xgb_rscv.fit(X_train, y_train)\n",
    "# #check top performing model parameters\n",
    "# best_param = xgb_rscv.best_params_\n",
    "# print(best_param)\n",
    "# #check top performing model's score\n",
    "# print(xgb_rscv.best_score_)\n",
    "\n",
    "xgb = GradientBoostingRegressor(\n",
    "    loss=\"huber\",\n",
    "    n_estimators=100,\n",
    "    verbose=True,\n",
    ")\n",
    "xgb.fit(X_train, y_train, sample_weight=y_train_exposure)\n",
    "y_pred = xgb.predict(X_test)\n",
    "get_score(y_test, y_pred, y_test_exposure)\n"
   ],
   "metadata": {
    "collapsed": false,
    "ExecuteTime": {
     "end_time": "2024-01-29T18:10:46.449463300Z",
     "start_time": "2024-01-29T18:10:40.845460100Z"
    }
   },
   "id": "5713f2768bf4caba",
   "execution_count": 58
  },
  {
   "cell_type": "code",
   "outputs": [
    {
     "name": "stdout",
     "output_type": "stream",
     "text": [
      "MSE: 0.2300\n",
      "MAE: 0.0732\n",
      "Max Error: 365.0000\n"
     ]
    },
    {
     "ename": "ValueError",
     "evalue": "Mean Tweedie deviance error with power=1 can only be used on non-negative y and strictly positive y_pred.",
     "output_type": "error",
     "traceback": [
      "\u001B[1;31m---------------------------------------------------------------------------\u001B[0m",
      "\u001B[1;31mValueError\u001B[0m                                Traceback (most recent call last)",
      "Cell \u001B[1;32mIn[52], line 1\u001B[0m\n\u001B[1;32m----> 1\u001B[0m \u001B[43mget_score\u001B[49m\u001B[43m(\u001B[49m\u001B[43my_test\u001B[49m\u001B[43m,\u001B[49m\u001B[43m \u001B[49m\u001B[43my_pred\u001B[49m\u001B[43m,\u001B[49m\u001B[43m \u001B[49m\u001B[43my_test_exposure\u001B[49m\u001B[43m)\u001B[49m\n",
      "Cell \u001B[1;32mIn[47], line 10\u001B[0m, in \u001B[0;36mget_score\u001B[1;34m(y_test, y_pred, weight)\u001B[0m\n\u001B[0;32m      8\u001B[0m \u001B[38;5;28mprint\u001B[39m(\u001B[38;5;124mf\u001B[39m\u001B[38;5;124m\"\u001B[39m\u001B[38;5;124mMAE: \u001B[39m\u001B[38;5;132;01m{\u001B[39;00mmean_absolute_error(y_test,\u001B[38;5;250m \u001B[39my_pred,\u001B[38;5;250m \u001B[39msample_weight\u001B[38;5;241m=\u001B[39mweight)\u001B[38;5;132;01m:\u001B[39;00m\u001B[38;5;124m.4f\u001B[39m\u001B[38;5;132;01m}\u001B[39;00m\u001B[38;5;124m\"\u001B[39m)\n\u001B[0;32m      9\u001B[0m \u001B[38;5;28mprint\u001B[39m(\u001B[38;5;124mf\u001B[39m\u001B[38;5;124m\"\u001B[39m\u001B[38;5;124mMax Error: \u001B[39m\u001B[38;5;132;01m{\u001B[39;00mmax_error(y_test,\u001B[38;5;250m \u001B[39my_pred)\u001B[38;5;132;01m:\u001B[39;00m\u001B[38;5;124m.4f\u001B[39m\u001B[38;5;132;01m}\u001B[39;00m\u001B[38;5;124m\"\u001B[39m)\n\u001B[1;32m---> 10\u001B[0m \u001B[38;5;28mprint\u001B[39m(\u001B[38;5;124mf\u001B[39m\u001B[38;5;124m\"\u001B[39m\u001B[38;5;124mMean Poisson Deviance: \u001B[39m\u001B[38;5;132;01m{\u001B[39;00m\u001B[43mmean_poisson_deviance\u001B[49m\u001B[43m(\u001B[49m\u001B[43my_test\u001B[49m\u001B[43m,\u001B[49m\u001B[38;5;250;43m \u001B[39;49m\u001B[43my_pred\u001B[49m\u001B[43m,\u001B[49m\u001B[38;5;250;43m \u001B[39;49m\u001B[43msample_weight\u001B[49m\u001B[38;5;241;43m=\u001B[39;49m\u001B[43mweight\u001B[49m\u001B[43m)\u001B[49m\u001B[38;5;132;01m:\u001B[39;00m\u001B[38;5;124m.4f\u001B[39m\u001B[38;5;132;01m}\u001B[39;00m\u001B[38;5;124m\"\u001B[39m)\n",
      "File \u001B[1;32mD:\\workspace\\GraduateGrade2Term2LSEWT\\PGPC2024\\.venv\\lib\\site-packages\\sklearn\\utils\\_param_validation.py:213\u001B[0m, in \u001B[0;36mvalidate_params.<locals>.decorator.<locals>.wrapper\u001B[1;34m(*args, **kwargs)\u001B[0m\n\u001B[0;32m    207\u001B[0m \u001B[38;5;28;01mtry\u001B[39;00m:\n\u001B[0;32m    208\u001B[0m     \u001B[38;5;28;01mwith\u001B[39;00m config_context(\n\u001B[0;32m    209\u001B[0m         skip_parameter_validation\u001B[38;5;241m=\u001B[39m(\n\u001B[0;32m    210\u001B[0m             prefer_skip_nested_validation \u001B[38;5;129;01mor\u001B[39;00m global_skip_validation\n\u001B[0;32m    211\u001B[0m         )\n\u001B[0;32m    212\u001B[0m     ):\n\u001B[1;32m--> 213\u001B[0m         \u001B[38;5;28;01mreturn\u001B[39;00m func(\u001B[38;5;241m*\u001B[39margs, \u001B[38;5;241m*\u001B[39m\u001B[38;5;241m*\u001B[39mkwargs)\n\u001B[0;32m    214\u001B[0m \u001B[38;5;28;01mexcept\u001B[39;00m InvalidParameterError \u001B[38;5;28;01mas\u001B[39;00m e:\n\u001B[0;32m    215\u001B[0m     \u001B[38;5;66;03m# When the function is just a wrapper around an estimator, we allow\u001B[39;00m\n\u001B[0;32m    216\u001B[0m     \u001B[38;5;66;03m# the function to delegate validation to the estimator, but we replace\u001B[39;00m\n\u001B[0;32m    217\u001B[0m     \u001B[38;5;66;03m# the name of the estimator by the name of the function in the error\u001B[39;00m\n\u001B[0;32m    218\u001B[0m     \u001B[38;5;66;03m# message to avoid confusion.\u001B[39;00m\n\u001B[0;32m    219\u001B[0m     msg \u001B[38;5;241m=\u001B[39m re\u001B[38;5;241m.\u001B[39msub(\n\u001B[0;32m    220\u001B[0m         \u001B[38;5;124mr\u001B[39m\u001B[38;5;124m\"\u001B[39m\u001B[38;5;124mparameter of \u001B[39m\u001B[38;5;124m\\\u001B[39m\u001B[38;5;124mw+ must be\u001B[39m\u001B[38;5;124m\"\u001B[39m,\n\u001B[0;32m    221\u001B[0m         \u001B[38;5;124mf\u001B[39m\u001B[38;5;124m\"\u001B[39m\u001B[38;5;124mparameter of \u001B[39m\u001B[38;5;132;01m{\u001B[39;00mfunc\u001B[38;5;241m.\u001B[39m\u001B[38;5;18m__qualname__\u001B[39m\u001B[38;5;132;01m}\u001B[39;00m\u001B[38;5;124m must be\u001B[39m\u001B[38;5;124m\"\u001B[39m,\n\u001B[0;32m    222\u001B[0m         \u001B[38;5;28mstr\u001B[39m(e),\n\u001B[0;32m    223\u001B[0m     )\n",
      "File \u001B[1;32mD:\\workspace\\GraduateGrade2Term2LSEWT\\PGPC2024\\.venv\\lib\\site-packages\\sklearn\\metrics\\_regression.py:1415\u001B[0m, in \u001B[0;36mmean_poisson_deviance\u001B[1;34m(y_true, y_pred, sample_weight)\u001B[0m\n\u001B[0;32m   1375\u001B[0m \u001B[38;5;129m@validate_params\u001B[39m(\n\u001B[0;32m   1376\u001B[0m     {\n\u001B[0;32m   1377\u001B[0m         \u001B[38;5;124m\"\u001B[39m\u001B[38;5;124my_true\u001B[39m\u001B[38;5;124m\"\u001B[39m: [\u001B[38;5;124m\"\u001B[39m\u001B[38;5;124marray-like\u001B[39m\u001B[38;5;124m\"\u001B[39m],\n\u001B[1;32m   (...)\u001B[0m\n\u001B[0;32m   1382\u001B[0m )\n\u001B[0;32m   1383\u001B[0m \u001B[38;5;28;01mdef\u001B[39;00m \u001B[38;5;21mmean_poisson_deviance\u001B[39m(y_true, y_pred, \u001B[38;5;241m*\u001B[39m, sample_weight\u001B[38;5;241m=\u001B[39m\u001B[38;5;28;01mNone\u001B[39;00m):\n\u001B[0;32m   1384\u001B[0m \u001B[38;5;250m    \u001B[39m\u001B[38;5;124;03m\"\"\"Mean Poisson deviance regression loss.\u001B[39;00m\n\u001B[0;32m   1385\u001B[0m \n\u001B[0;32m   1386\u001B[0m \u001B[38;5;124;03m    Poisson deviance is equivalent to the Tweedie deviance with\u001B[39;00m\n\u001B[1;32m   (...)\u001B[0m\n\u001B[0;32m   1413\u001B[0m \u001B[38;5;124;03m    1.4260...\u001B[39;00m\n\u001B[0;32m   1414\u001B[0m \u001B[38;5;124;03m    \"\"\"\u001B[39;00m\n\u001B[1;32m-> 1415\u001B[0m     \u001B[38;5;28;01mreturn\u001B[39;00m \u001B[43mmean_tweedie_deviance\u001B[49m\u001B[43m(\u001B[49m\u001B[43my_true\u001B[49m\u001B[43m,\u001B[49m\u001B[43m \u001B[49m\u001B[43my_pred\u001B[49m\u001B[43m,\u001B[49m\u001B[43m \u001B[49m\u001B[43msample_weight\u001B[49m\u001B[38;5;241;43m=\u001B[39;49m\u001B[43msample_weight\u001B[49m\u001B[43m,\u001B[49m\u001B[43m \u001B[49m\u001B[43mpower\u001B[49m\u001B[38;5;241;43m=\u001B[39;49m\u001B[38;5;241;43m1\u001B[39;49m\u001B[43m)\u001B[49m\n",
      "File \u001B[1;32mD:\\workspace\\GraduateGrade2Term2LSEWT\\PGPC2024\\.venv\\lib\\site-packages\\sklearn\\utils\\_param_validation.py:186\u001B[0m, in \u001B[0;36mvalidate_params.<locals>.decorator.<locals>.wrapper\u001B[1;34m(*args, **kwargs)\u001B[0m\n\u001B[0;32m    184\u001B[0m global_skip_validation \u001B[38;5;241m=\u001B[39m get_config()[\u001B[38;5;124m\"\u001B[39m\u001B[38;5;124mskip_parameter_validation\u001B[39m\u001B[38;5;124m\"\u001B[39m]\n\u001B[0;32m    185\u001B[0m \u001B[38;5;28;01mif\u001B[39;00m global_skip_validation:\n\u001B[1;32m--> 186\u001B[0m     \u001B[38;5;28;01mreturn\u001B[39;00m func(\u001B[38;5;241m*\u001B[39margs, \u001B[38;5;241m*\u001B[39m\u001B[38;5;241m*\u001B[39mkwargs)\n\u001B[0;32m    188\u001B[0m func_sig \u001B[38;5;241m=\u001B[39m signature(func)\n\u001B[0;32m    190\u001B[0m \u001B[38;5;66;03m# Map *args/**kwargs to the function signature\u001B[39;00m\n",
      "File \u001B[1;32mD:\\workspace\\GraduateGrade2Term2LSEWT\\PGPC2024\\.venv\\lib\\site-packages\\sklearn\\metrics\\_regression.py:1361\u001B[0m, in \u001B[0;36mmean_tweedie_deviance\u001B[1;34m(y_true, y_pred, sample_weight, power)\u001B[0m\n\u001B[0;32m   1358\u001B[0m \u001B[38;5;28;01melif\u001B[39;00m \u001B[38;5;241m1\u001B[39m \u001B[38;5;241m<\u001B[39m\u001B[38;5;241m=\u001B[39m power \u001B[38;5;241m<\u001B[39m \u001B[38;5;241m2\u001B[39m:\n\u001B[0;32m   1359\u001B[0m     \u001B[38;5;66;03m# Poisson and compound Poisson distribution, y >= 0, y_pred > 0\u001B[39;00m\n\u001B[0;32m   1360\u001B[0m     \u001B[38;5;28;01mif\u001B[39;00m (y_true \u001B[38;5;241m<\u001B[39m \u001B[38;5;241m0\u001B[39m)\u001B[38;5;241m.\u001B[39many() \u001B[38;5;129;01mor\u001B[39;00m (y_pred \u001B[38;5;241m<\u001B[39m\u001B[38;5;241m=\u001B[39m \u001B[38;5;241m0\u001B[39m)\u001B[38;5;241m.\u001B[39many():\n\u001B[1;32m-> 1361\u001B[0m         \u001B[38;5;28;01mraise\u001B[39;00m \u001B[38;5;167;01mValueError\u001B[39;00m(message \u001B[38;5;241m+\u001B[39m \u001B[38;5;124m\"\u001B[39m\u001B[38;5;124mnon-negative y and strictly positive y_pred.\u001B[39m\u001B[38;5;124m\"\u001B[39m)\n\u001B[0;32m   1362\u001B[0m \u001B[38;5;28;01melif\u001B[39;00m power \u001B[38;5;241m>\u001B[39m\u001B[38;5;241m=\u001B[39m \u001B[38;5;241m2\u001B[39m:\n\u001B[0;32m   1363\u001B[0m     \u001B[38;5;66;03m# Gamma and Extreme stable distribution, y and y_pred > 0\u001B[39;00m\n\u001B[0;32m   1364\u001B[0m     \u001B[38;5;28;01mif\u001B[39;00m (y_true \u001B[38;5;241m<\u001B[39m\u001B[38;5;241m=\u001B[39m \u001B[38;5;241m0\u001B[39m)\u001B[38;5;241m.\u001B[39many() \u001B[38;5;129;01mor\u001B[39;00m (y_pred \u001B[38;5;241m<\u001B[39m\u001B[38;5;241m=\u001B[39m \u001B[38;5;241m0\u001B[39m)\u001B[38;5;241m.\u001B[39many():\n",
      "\u001B[1;31mValueError\u001B[0m: Mean Tweedie deviance error with power=1 can only be used on non-negative y and strictly positive y_pred."
     ]
    }
   ],
   "source": [
    "get_score(y_test, y_pred, y_test_exposure)"
   ],
   "metadata": {
    "collapsed": false,
    "ExecuteTime": {
     "end_time": "2024-01-29T18:02:13.630773400Z",
     "start_time": "2024-01-29T18:02:13.582223300Z"
    }
   },
   "id": "4977b321e5f26780",
   "execution_count": 52
  }
 ],
 "metadata": {
  "kernelspec": {
   "display_name": "Python 3",
   "language": "python",
   "name": "python3"
  },
  "language_info": {
   "codemirror_mode": {
    "name": "ipython",
    "version": 2
   },
   "file_extension": ".py",
   "mimetype": "text/x-python",
   "name": "python",
   "nbconvert_exporter": "python",
   "pygments_lexer": "ipython2",
   "version": "2.7.6"
  }
 },
 "nbformat": 4,
 "nbformat_minor": 5
}
