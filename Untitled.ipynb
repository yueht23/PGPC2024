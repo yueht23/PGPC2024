{
 "cells": [
  {
   "cell_type": "markdown",
   "id": "2409b08f",
   "metadata": {},
   "source": [
    "## Deep Imbalanced Regression"
   ]
  },
  {
   "cell_type": "markdown",
   "id": "d5580ffb",
   "metadata": {},
   "source": [
    "Deep Imbalanced Regression (DIR) is a framework for learning from imbalanced data with continuous targets, addressing potential missing data for certain target values, and generalizing to the entire target range. This is in contrast to traditional imbalanced classification methods that deal with discrete classes.\n",
    "\n",
    "Two key challenges in DIR are identified: Label Distribution Smoothing (LDS) and Feature Distribution Smoothing (FDS)."
   ]
  },
  {
   "cell_type": "code",
   "execution_count": 6,
   "id": "107b83f4",
   "metadata": {},
   "outputs": [],
   "source": [
    "import csv\n",
    "import pandas as pd\n",
    "import matplotlib.pyplot as plt"
   ]
  },
  {
   "cell_type": "code",
   "execution_count": 5,
   "id": "1e31fe3b",
   "metadata": {},
   "outputs": [
    {
     "name": "stdout",
     "output_type": "stream",
     "text": [
      "            IDpol  ClaimNb  Exposure Area  VehPower  VehAge  DrivAge  \\\n",
      "0             1.0        1   0.10000    D         5       0       55   \n",
      "1             3.0        1   0.77000    D         5       0       55   \n",
      "2             5.0        1   0.75000    B         6       2       52   \n",
      "3            10.0        1   0.09000    B         7       0       46   \n",
      "4            11.0        1   0.84000    B         7       0       46   \n",
      "...           ...      ...       ...  ...       ...     ...      ...   \n",
      "678008  6114326.0        0   0.00274    E         4       0       54   \n",
      "678009  6114327.0        0   0.00274    E         4       0       41   \n",
      "678010  6114328.0        0   0.00274    D         6       2       45   \n",
      "678011  6114329.0        0   0.00274    B         4       0       60   \n",
      "678012  6114330.0        0   0.00274    B         7       6       29   \n",
      "\n",
      "        BonusMalus VehBrand   VehGas  Density Region  \n",
      "0               50      B12  Regular     1217    R82  \n",
      "1               50      B12  Regular     1217    R82  \n",
      "2               50      B12   Diesel       54    R22  \n",
      "3               50      B12   Diesel       76    R72  \n",
      "4               50      B12   Diesel       76    R72  \n",
      "...            ...      ...      ...      ...    ...  \n",
      "678008          50      B12  Regular     3317    R93  \n",
      "678009          95      B12  Regular     9850    R11  \n",
      "678010          50      B12   Diesel     1323    R82  \n",
      "678011          50      B12  Regular       95    R26  \n",
      "678012          54      B12   Diesel       65    R72  \n",
      "\n",
      "[678013 rows x 12 columns]\n"
     ]
    }
   ],
   "source": [
    "csv_file = 'freMTPL2freq.csv'\n",
    "\n",
    "df = pd.read_csv(csv_file)\n",
    "print(df)"
   ]
  },
  {
   "cell_type": "code",
   "execution_count": 28,
   "id": "bf176e29",
   "metadata": {},
   "outputs": [
    {
     "data": {
      "text/html": [
       "<div>\n",
       "<style scoped>\n",
       "    .dataframe tbody tr th:only-of-type {\n",
       "        vertical-align: middle;\n",
       "    }\n",
       "\n",
       "    .dataframe tbody tr th {\n",
       "        vertical-align: top;\n",
       "    }\n",
       "\n",
       "    .dataframe thead th {\n",
       "        text-align: right;\n",
       "    }\n",
       "</style>\n",
       "<table border=\"1\" class=\"dataframe\">\n",
       "  <thead>\n",
       "    <tr style=\"text-align: right;\">\n",
       "      <th></th>\n",
       "      <th>IDpol</th>\n",
       "      <th>ClaimNb</th>\n",
       "      <th>Exposure</th>\n",
       "      <th>VehPower</th>\n",
       "      <th>VehAge</th>\n",
       "      <th>DrivAge</th>\n",
       "      <th>BonusMalus</th>\n",
       "      <th>Density</th>\n",
       "    </tr>\n",
       "  </thead>\n",
       "  <tbody>\n",
       "    <tr>\n",
       "      <th>count</th>\n",
       "      <td>6.780130e+05</td>\n",
       "      <td>678013.000000</td>\n",
       "      <td>678013.000000</td>\n",
       "      <td>678013.000000</td>\n",
       "      <td>678013.000000</td>\n",
       "      <td>678013.000000</td>\n",
       "      <td>678013.000000</td>\n",
       "      <td>678013.000000</td>\n",
       "    </tr>\n",
       "    <tr>\n",
       "      <th>mean</th>\n",
       "      <td>2.621857e+06</td>\n",
       "      <td>0.053247</td>\n",
       "      <td>0.528750</td>\n",
       "      <td>6.454631</td>\n",
       "      <td>7.044265</td>\n",
       "      <td>45.499122</td>\n",
       "      <td>59.761502</td>\n",
       "      <td>1792.422405</td>\n",
       "    </tr>\n",
       "    <tr>\n",
       "      <th>std</th>\n",
       "      <td>1.641783e+06</td>\n",
       "      <td>0.240117</td>\n",
       "      <td>0.364442</td>\n",
       "      <td>2.050906</td>\n",
       "      <td>5.666232</td>\n",
       "      <td>14.137444</td>\n",
       "      <td>15.636658</td>\n",
       "      <td>3958.646564</td>\n",
       "    </tr>\n",
       "    <tr>\n",
       "      <th>min</th>\n",
       "      <td>1.000000e+00</td>\n",
       "      <td>0.000000</td>\n",
       "      <td>0.002732</td>\n",
       "      <td>4.000000</td>\n",
       "      <td>0.000000</td>\n",
       "      <td>18.000000</td>\n",
       "      <td>50.000000</td>\n",
       "      <td>1.000000</td>\n",
       "    </tr>\n",
       "    <tr>\n",
       "      <th>25%</th>\n",
       "      <td>1.157951e+06</td>\n",
       "      <td>0.000000</td>\n",
       "      <td>0.180000</td>\n",
       "      <td>5.000000</td>\n",
       "      <td>2.000000</td>\n",
       "      <td>34.000000</td>\n",
       "      <td>50.000000</td>\n",
       "      <td>92.000000</td>\n",
       "    </tr>\n",
       "    <tr>\n",
       "      <th>50%</th>\n",
       "      <td>2.272152e+06</td>\n",
       "      <td>0.000000</td>\n",
       "      <td>0.490000</td>\n",
       "      <td>6.000000</td>\n",
       "      <td>6.000000</td>\n",
       "      <td>44.000000</td>\n",
       "      <td>50.000000</td>\n",
       "      <td>393.000000</td>\n",
       "    </tr>\n",
       "    <tr>\n",
       "      <th>75%</th>\n",
       "      <td>4.046274e+06</td>\n",
       "      <td>0.000000</td>\n",
       "      <td>0.990000</td>\n",
       "      <td>7.000000</td>\n",
       "      <td>11.000000</td>\n",
       "      <td>55.000000</td>\n",
       "      <td>64.000000</td>\n",
       "      <td>1658.000000</td>\n",
       "    </tr>\n",
       "    <tr>\n",
       "      <th>max</th>\n",
       "      <td>6.114330e+06</td>\n",
       "      <td>16.000000</td>\n",
       "      <td>2.010000</td>\n",
       "      <td>15.000000</td>\n",
       "      <td>100.000000</td>\n",
       "      <td>100.000000</td>\n",
       "      <td>230.000000</td>\n",
       "      <td>27000.000000</td>\n",
       "    </tr>\n",
       "  </tbody>\n",
       "</table>\n",
       "</div>"
      ],
      "text/plain": [
       "              IDpol        ClaimNb       Exposure       VehPower  \\\n",
       "count  6.780130e+05  678013.000000  678013.000000  678013.000000   \n",
       "mean   2.621857e+06       0.053247       0.528750       6.454631   \n",
       "std    1.641783e+06       0.240117       0.364442       2.050906   \n",
       "min    1.000000e+00       0.000000       0.002732       4.000000   \n",
       "25%    1.157951e+06       0.000000       0.180000       5.000000   \n",
       "50%    2.272152e+06       0.000000       0.490000       6.000000   \n",
       "75%    4.046274e+06       0.000000       0.990000       7.000000   \n",
       "max    6.114330e+06      16.000000       2.010000      15.000000   \n",
       "\n",
       "              VehAge        DrivAge     BonusMalus        Density  \n",
       "count  678013.000000  678013.000000  678013.000000  678013.000000  \n",
       "mean        7.044265      45.499122      59.761502    1792.422405  \n",
       "std         5.666232      14.137444      15.636658    3958.646564  \n",
       "min         0.000000      18.000000      50.000000       1.000000  \n",
       "25%         2.000000      34.000000      50.000000      92.000000  \n",
       "50%         6.000000      44.000000      50.000000     393.000000  \n",
       "75%        11.000000      55.000000      64.000000    1658.000000  \n",
       "max       100.000000     100.000000     230.000000   27000.000000  "
      ]
     },
     "execution_count": 28,
     "metadata": {},
     "output_type": "execute_result"
    }
   ],
   "source": [
    "df.describe()"
   ]
  },
  {
   "cell_type": "code",
   "execution_count": 14,
   "id": "18ae5bac",
   "metadata": {},
   "outputs": [
    {
     "data": {
      "text/plain": [
       "count    678013.000000\n",
       "mean          0.053247\n",
       "std           0.240117\n",
       "min           0.000000\n",
       "25%           0.000000\n",
       "50%           0.000000\n",
       "75%           0.000000\n",
       "max          16.000000\n",
       "Name: ClaimNb, dtype: float64"
      ]
     },
     "execution_count": 14,
     "metadata": {},
     "output_type": "execute_result"
    }
   ],
   "source": [
    "df['ClaimNb'].describe()"
   ]
  },
  {
   "cell_type": "code",
   "execution_count": 21,
   "id": "21c0a0af",
   "metadata": {},
   "outputs": [
    {
     "data": {
      "image/png": "[encoded data removed]",
      "text/plain": [
       "<Figure size 640x480 with 1 Axes>"
      ]
     },
     "metadata": {},
     "output_type": "display_data"
    }
   ],
   "source": [
    "plt.hist(df['ClaimNb'], bins=len(set(df['ClaimNb'])), align='left', rwidth=0.8)\n",
    "plt.xlabel('Number of Claims')\n",
    "plt.ylabel('Frequency')\n",
    "plt.title('Frequency of Number of Claims')\n",
    "plt.show()"
   ]
  },
  {
   "cell_type": "markdown",
   "id": "2095b26d",
   "metadata": {},
   "source": [
    "### Label Distribution Smoothing (LDS)"
   ]
  },
  {
   "cell_type": "markdown",
   "id": "c08045d0",
   "metadata": {},
   "source": [
    "This technique uses kernel density estimation to smooth the label distribution. It acknowledges the effects of nearby targets, providing an effective label distribution that considers the continuity of labels. LDS is seamlessly integrated with various techniques to enhance DIR performance."
   ]
  },
  {
   "cell_type": "code",
   "execution_count": 24,
   "id": "95efa943",
   "metadata": {},
   "outputs": [
    {
     "name": "stdout",
     "output_type": "stream",
     "text": [
      "Collecting utils\n",
      "  Downloading utils-1.0.2.tar.gz (13 kB)\n",
      "  Preparing metadata (setup.py): started\n",
      "  Preparing metadata (setup.py): finished with status 'done'\n",
      "Building wheels for collected packages: utils\n",
      "  Building wheel for utils (setup.py): started\n",
      "  Building wheel for utils (setup.py): finished with status 'done'\n",
      "  Created wheel for utils: filename=utils-1.0.2-py2.py3-none-any.whl size=13934 sha256=680e54c3446a172f393d939663547042f7c43b563d84d42da6861c1ec2165a8a\n",
      "  Stored in directory: c:\\users\\csia7\\appdata\\local\\pip\\cache\\wheels\\15\\0c\\b3\\674aea8c5d91c642c817d4d630bd58faa316724b136844094d\n",
      "Successfully built utils\n",
      "Installing collected packages: utils\n",
      "Successfully installed utils-1.0.2\n"
     ]
    }
   ],
   "source": [
    "!pip install utils"
   ]
  },
  {
   "cell_type": "code",
   "execution_count": 27,
   "id": "cd90667c",
   "metadata": {},
   "outputs": [
    {
     "ename": "ImportError",
     "evalue": "cannot import name 'get_lds_kernel_window' from 'utils' (C:\\Users\\csia7\\anaconda3\\Lib\\site-packages\\utils\\__init__.py)",
     "output_type": "error",
     "traceback": [
      "\u001b[1;31m---------------------------------------------------------------------------\u001b[0m",
      "\u001b[1;31mImportError\u001b[0m                               Traceback (most recent call last)",
      "Cell \u001b[1;32mIn[27], line 3\u001b[0m\n\u001b[0;32m      1\u001b[0m \u001b[38;5;28;01mfrom\u001b[39;00m \u001b[38;5;21;01mcollections\u001b[39;00m \u001b[38;5;28;01mimport\u001b[39;00m Counter\n\u001b[0;32m      2\u001b[0m \u001b[38;5;28;01mfrom\u001b[39;00m \u001b[38;5;21;01mscipy\u001b[39;00m\u001b[38;5;21;01m.\u001b[39;00m\u001b[38;5;21;01mndimage\u001b[39;00m \u001b[38;5;28;01mimport\u001b[39;00m convolve1d\n\u001b[1;32m----> 3\u001b[0m \u001b[38;5;28;01mfrom\u001b[39;00m \u001b[38;5;21;01mutils\u001b[39;00m \u001b[38;5;28;01mimport\u001b[39;00m get_lds_kernel_window\n\u001b[0;32m      5\u001b[0m \u001b[38;5;66;03m# preds, labels: [Ns,], \"Ns\" is the number of total samples\u001b[39;00m\n\u001b[0;32m      6\u001b[0m preds, labels \u001b[38;5;241m=\u001b[39m\u001b[38;5;241m678013\u001b[39m, \u001b[38;5;28mrange\u001b[39m(\u001b[38;5;241m0\u001b[39m, \u001b[38;5;241m17\u001b[39m),\n",
      "\u001b[1;31mImportError\u001b[0m: cannot import name 'get_lds_kernel_window' from 'utils' (C:\\Users\\csia7\\anaconda3\\Lib\\site-packages\\utils\\__init__.py)"
     ]
    }
   ],
   "source": [
    "from collections import Counter\n",
    "from scipy.ndimage import convolve1d\n",
    "from utils import get_lds_kernel_window\n",
    "\n",
    "# preds, labels: [Ns,], \"Ns\" is the number of total samples\n",
    "preds, labels =678013, range(0, 17),\n",
    "\n",
    "def get_bin_idx(label):\n",
    "    bin = 0\n",
    "    if(label < 5):\n",
    "        bin = 1\n",
    "    elif(label < 10):\n",
    "        bin = 2\n",
    "    else:\n",
    "        bin = 3\n",
    "    return bin\n",
    "\n",
    "# assign each label to its corresponding bin (start from 0)\n",
    "# with your defined get_bin_idx(), return bin_index_per_label: [Ns,] \n",
    "bin_index_per_label = [get_bin_idx(label) for label in labels]\n",
    "\n",
    "# calculate empirical (original) label distribution: [Nb,]\n",
    "# \"Nb\" is the number of bins\n",
    "Nb = max(bin_index_per_label) + 1\n",
    "num_samples_of_bins = dict(Counter(bin_index_per_label))\n",
    "emp_label_dist = [num_samples_of_bins.get(i, 0) for i in range(Nb)]\n",
    "\n",
    "# lds_kernel_window: [ks,], here for example, we use gaussian, ks=5, sigma=2\n",
    "lds_kernel_window = get_lds_kernel_window(kernel='gaussian', ks=5, sigma=2)\n",
    "# calculate effective label distribution: [Nb,]\n",
    "eff_label_dist = convolve1d(np.array(emp_label_dist), weights=lds_kernel_window, mode='constant')\n"
   ]
  },
  {
   "cell_type": "markdown",
   "id": "9fb9f39b",
   "metadata": {},
   "source": [
    "### Feature Distribution Smoothing (FDS)"
   ]
  },
  {
   "cell_type": "markdown",
   "id": "4a4a21ac",
   "metadata": {},
   "source": [
    " FDS is introduced based on the intuition that continuity in the target space should lead to a corresponding continuity in the feature space. It performs distribution smoothing on the feature space, calibrating potentially biased estimates of feature distribution, especially for underrepresented target values."
   ]
  },
  {
   "cell_type": "code",
   "execution_count": 29,
   "id": "09936ec1",
   "metadata": {},
   "outputs": [
    {
     "name": "stdout",
     "output_type": "stream",
     "text": [
      "Collecting fds\n",
      "  Downloading fds-0.1.0.dev1-py2.py3-none-any.whl (25 kB)\n",
      "Requirement already satisfied: dill in c:\\users\\csia7\\anaconda3\\lib\\site-packages (from fds) (0.3.6)\n",
      "Collecting mpi4py>=1.3.1 (from fds)\n",
      "  Obtaining dependency information for mpi4py>=1.3.1 from https://files.pythonhosted.org/packages/d6/5e/94811843d8c99729bf2b73341ef74b5874c661b8110dec690fe315dddd7e/mpi4py-3.1.5-cp311-cp311-win_amd64.whl.metadata\n",
      "  Downloading mpi4py-3.1.5-cp311-cp311-win_amd64.whl.metadata (8.0 kB)\n",
      "Requirement already satisfied: numpy>=1.10 in c:\\users\\csia7\\anaconda3\\lib\\site-packages (from fds) (1.24.3)\n",
      "Requirement already satisfied: pytest in c:\\users\\csia7\\anaconda3\\lib\\site-packages (from fds) (7.4.0)\n",
      "Collecting pytest-cov (from fds)\n",
      "  Obtaining dependency information for pytest-cov from https://files.pythonhosted.org/packages/a7/4b/8b78d126e275efa2379b1c2e09dc52cf70df16fc3b90613ef82531499d73/pytest_cov-4.1.0-py3-none-any.whl.metadata\n",
      "  Using cached pytest_cov-4.1.0-py3-none-any.whl.metadata (26 kB)\n",
      "Collecting python-coveralls (from fds)\n",
      "  Downloading python_coveralls-2.9.3-py2.py3-none-any.whl (9.9 kB)\n",
      "Requirement already satisfied: scipy>=0.14 in c:\\users\\csia7\\anaconda3\\lib\\site-packages (from fds) (1.10.1)\n",
      "Requirement already satisfied: iniconfig in c:\\users\\csia7\\anaconda3\\lib\\site-packages (from pytest->fds) (1.1.1)\n",
      "Requirement already satisfied: packaging in c:\\users\\csia7\\anaconda3\\lib\\site-packages (from pytest->fds) (23.0)\n",
      "Requirement already satisfied: pluggy<2.0,>=0.12 in c:\\users\\csia7\\anaconda3\\lib\\site-packages (from pytest->fds) (1.0.0)\n",
      "Requirement already satisfied: colorama in c:\\users\\csia7\\anaconda3\\lib\\site-packages (from pytest->fds) (0.4.6)\n",
      "Collecting coverage[toml]>=5.2.1 (from pytest-cov->fds)\n",
      "  Obtaining dependency information for coverage[toml]>=5.2.1 from https://files.pythonhosted.org/packages/95/2d/942c21494711505c20fc05ef11ec47ac49fe86dd5242123dbd5a0d0a92c0/coverage-7.4.1-cp311-cp311-win_amd64.whl.metadata\n",
      "  Downloading coverage-7.4.1-cp311-cp311-win_amd64.whl.metadata (8.4 kB)\n",
      "Requirement already satisfied: PyYAML in c:\\users\\csia7\\anaconda3\\lib\\site-packages (from python-coveralls->fds) (6.0)\n",
      "Requirement already satisfied: requests in c:\\users\\csia7\\anaconda3\\lib\\site-packages (from python-coveralls->fds) (2.31.0)\n",
      "Requirement already satisfied: six in c:\\users\\csia7\\anaconda3\\lib\\site-packages (from python-coveralls->fds) (1.16.0)\n",
      "Requirement already satisfied: charset-normalizer<4,>=2 in c:\\users\\csia7\\anaconda3\\lib\\site-packages (from requests->python-coveralls->fds) (2.0.4)\n",
      "Requirement already satisfied: idna<4,>=2.5 in c:\\users\\csia7\\anaconda3\\lib\\site-packages (from requests->python-coveralls->fds) (3.4)\n",
      "Requirement already satisfied: urllib3<3,>=1.21.1 in c:\\users\\csia7\\anaconda3\\lib\\site-packages (from requests->python-coveralls->fds) (1.26.16)\n",
      "Requirement already satisfied: certifi>=2017.4.17 in c:\\users\\csia7\\anaconda3\\lib\\site-packages (from requests->python-coveralls->fds) (2023.7.22)\n",
      "Downloading mpi4py-3.1.5-cp311-cp311-win_amd64.whl (465 kB)\n",
      "   ---------------------------------------- 0.0/466.0 kB ? eta -:--:--\n",
      "   ----------------------- ---------------- 276.5/466.0 kB 8.6 MB/s eta 0:00:01\n",
      "   ---------------------------------------- 466.0/466.0 kB 7.2 MB/s eta 0:00:00\n",
      "Using cached pytest_cov-4.1.0-py3-none-any.whl (21 kB)\n",
      "Downloading coverage-7.4.1-cp311-cp311-win_amd64.whl (209 kB)\n",
      "   ---------------------------------------- 0.0/209.8 kB ? eta -:--:--\n",
      "   ------------------------------------- -- 194.6/209.8 kB 5.9 MB/s eta 0:00:01\n",
      "   ---------------------------------------- 209.8/209.8 kB 6.4 MB/s eta 0:00:00\n",
      "Installing collected packages: mpi4py, coverage, python-coveralls, pytest-cov, fds\n",
      "Successfully installed coverage-7.4.1 fds-0.1.0.dev1 mpi4py-3.1.5 pytest-cov-4.1.0 python-coveralls-2.9.3\n"
     ]
    }
   ],
   "source": [
    "!pip install fds"
   ]
  },
  {
   "cell_type": "code",
   "execution_count": 32,
   "id": "a4bbae99",
   "metadata": {},
   "outputs": [
    {
     "ename": "ImportError",
     "evalue": "cannot import name 'FDS' from 'fds' (C:\\Users\\csia7\\anaconda3\\Lib\\site-packages\\fds\\__init__.py)",
     "output_type": "error",
     "traceback": [
      "\u001b[1;31m---------------------------------------------------------------------------\u001b[0m",
      "\u001b[1;31mImportError\u001b[0m                               Traceback (most recent call last)",
      "Cell \u001b[1;32mIn[32], line 1\u001b[0m\n\u001b[1;32m----> 1\u001b[0m \u001b[38;5;28;01mfrom\u001b[39;00m \u001b[38;5;21;01mfds\u001b[39;00m \u001b[38;5;28;01mimport\u001b[39;00m FDS\n\u001b[0;32m      3\u001b[0m config \u001b[38;5;241m=\u001b[39m \u001b[38;5;28mdict\u001b[39m(feature_dim\u001b[38;5;241m=\u001b[39m\u001b[38;5;241m.\u001b[39m\u001b[38;5;241m.\u001b[39m\u001b[38;5;241m.\u001b[39m, start_update\u001b[38;5;241m=\u001b[39m\u001b[38;5;241m0\u001b[39m, start_smooth\u001b[38;5;241m=\u001b[39m\u001b[38;5;241m1\u001b[39m, kernel\u001b[38;5;241m=\u001b[39m\u001b[38;5;124m'\u001b[39m\u001b[38;5;124mgaussian\u001b[39m\u001b[38;5;124m'\u001b[39m, ks\u001b[38;5;241m=\u001b[39m\u001b[38;5;241m5\u001b[39m, sigma\u001b[38;5;241m=\u001b[39m\u001b[38;5;241m2\u001b[39m)\n\u001b[0;32m      5\u001b[0m \u001b[38;5;28;01mdef\u001b[39;00m \u001b[38;5;21mNetwork\u001b[39m(Module):\n",
      "\u001b[1;31mImportError\u001b[0m: cannot import name 'FDS' from 'fds' (C:\\Users\\csia7\\anaconda3\\Lib\\site-packages\\fds\\__init__.py)"
     ]
    }
   ],
   "source": [
    "from fds import FDS\n",
    "\n",
    "config = dict(feature_dim=..., start_update=0, start_smooth=1, kernel='gaussian', ks=5, sigma=2)\n",
    "\n",
    "def Network(Module):\n",
    "    def __init__(self, **config):\n",
    "        super().__init__()\n",
    "        self.feature_extractor = ...\n",
    "        self.regressor = nn.Linear(config['feature_dim'], 1)  # FDS operates before the final regressor\n",
    "        self.FDS = FDS(**config)\n",
    "\n",
    "    def forward(self, inputs, labels, epoch):\n",
    "        features = self.feature_extractor(inputs)  # features: [batch_size, feature_dim]\n",
    "        # smooth the feature distributions over the target space\n",
    "        smoothed_features = features    \n",
    "        if self.training and epoch >= config['start_smooth']:\n",
    "            smoothed_features = self.FDS.smooth(smoothed_features, labels, epoch)\n",
    "        preds = self.regressor(smoothed_features)\n",
    "        \n",
    "        return {'preds': preds, 'features': features}"
   ]
  },
  {
   "cell_type": "code",
   "execution_count": null,
   "id": "abe0cf18",
   "metadata": {},
   "outputs": [],
   "source": [
    "model = Network(**config)\n",
    "\n",
    "for epoch in range(num_epochs):\n",
    "    for (inputs, labels) in train_loader:\n",
    "        # standard training pipeline\n",
    "        ...\n",
    "\n",
    "    # update FDS statistics after each training epoch\n",
    "    if epoch >= config['start_update']:\n",
    "        # collect features and labels for all training samples\n",
    "        ...\n",
    "        # training_features: [num_samples, feature_dim], training_labels: [num_samples,]\n",
    "        training_features, training_labels = ..., ...\n",
    "        model.FDS.update_last_epoch_stats(epoch)\n",
    "        model.FDS.update_running_stats(training_features, training_labels, epoch)"
   ]
  }
 ],
 "metadata": {
  "kernelspec": {
   "display_name": "Python 3 (ipykernel)",
   "language": "python",
   "name": "python3"
  },
  "language_info": {
   "codemirror_mode": {
    "name": "ipython",
    "version": 3
   },
   "file_extension": ".py",
   "mimetype": "text/x-python",
   "name": "python",
   "nbconvert_exporter": "python",
   "pygments_lexer": "ipython3",
   "version": "3.11.4"
  }
 },
 "nbformat": 4,
 "nbformat_minor": 5
}
